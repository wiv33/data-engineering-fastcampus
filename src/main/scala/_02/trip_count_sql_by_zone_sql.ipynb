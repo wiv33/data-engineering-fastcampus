{
 "cells": [
  {
   "cell_type": "code",
   "execution_count": 4,
   "metadata": {
    "collapsed": true
   },
   "outputs": [],
   "source": [
    "from pyspark.sql import SparkSession"
   ]
  },
  {
   "cell_type": "code",
   "execution_count": 5,
   "outputs": [
    {
     "name": "stdout",
     "output_type": "stream",
     "text": [
      "22/12/25 21:29:33 WARN Utils: Your hostname, PSui-MacBookPro.local resolves to a loopback address: 127.0.0.1; using 192.168.0.7 instead (on interface en0)\n",
      "22/12/25 21:29:33 WARN Utils: Set SPARK_LOCAL_IP if you need to bind to another address\n"
     ]
    },
    {
     "name": "stderr",
     "output_type": "stream",
     "text": [
      "Setting default log level to \"WARN\".\n",
      "To adjust logging level use sc.setLogLevel(newLevel). For SparkR, use setLogLevel(newLevel).\n"
     ]
    },
    {
     "name": "stdout",
     "output_type": "stream",
     "text": [
      "22/12/25 21:29:33 WARN NativeCodeLoader: Unable to load native-hadoop library for your platform... using builtin-java classes where applicable\n",
      "22/12/25 21:29:33 WARN Utils: Service 'SparkUI' could not bind on port 4040. Attempting port 4041.\n",
      "22/12/25 21:29:33 WARN Utils: Service 'SparkUI' could not bind on port 4041. Attempting port 4042.\n"
     ]
    }
   ],
   "source": [
    "spark = SparkSession.builder.appName(\"tip_count_sql\").getOrCreate()"
   ],
   "metadata": {
    "collapsed": false
   }
  },
  {
   "cell_type": "markdown",
   "source": [
    "# row 데이터 생성\n",
    "1. wget -i https://d37ci6vzurychx.cloudfront.net/trip-data/fhv_tripdata_2020-03.parquet -P ../../../../data/ -w 2\n",
    "    1. (전체 데이터가 필요한 경우) ./install_row_data.sh\n",
    "2. !conda install pyarrow fastparquet -y\n",
    "3. convert parquet to csv"
   ],
   "metadata": {
    "collapsed": false
   }
  },
  {
   "cell_type": "code",
   "execution_count": 34,
   "outputs": [
    {
     "name": "stdout",
     "output_type": "stream",
     "text": [
      "done\r\n",
      "Solving environment: done\r\n",
      "\r\n",
      "## Package Plan ##\r\n",
      "\r\n",
      "  environment location: /usr/local/anaconda3\r\n",
      "\r\n",
      "  added / updated specs:\r\n",
      "    - fastparquet\r\n",
      "    - pyarrow\r\n",
      "\r\n",
      "\r\n",
      "The following packages will be downloaded:\r\n",
      "\r\n",
      "    package                    |            build\r\n",
      "    ---------------------------|-----------------\r\n",
      "    abseil-cpp-20211102.0      |       he9d5cce_0         933 KB\r\n",
      "    arrow-cpp-8.0.0            |   py39had1886b_0         7.0 MB\r\n",
      "    aws-c-common-0.4.57        |       hb1e8313_1         140 KB\r\n",
      "    aws-c-event-stream-0.1.6   |       h23ab428_5          21 KB\r\n",
      "    aws-checksums-0.1.9        |       hb1e8313_0          47 KB\r\n",
      "    aws-sdk-cpp-1.8.185        |       he271ece_0         1.6 MB\r\n",
      "    boost-cpp-1.73.0           |      hca72f7f_12          17 KB\r\n",
      "    conda-22.11.1              |   py39hecd8cb5_4         941 KB\r\n",
      "    fastparquet-0.5.0          |   py39h67323c0_2         173 KB\r\n",
      "    gflags-2.2.2               |       h0a44026_0         104 KB\r\n",
      "    glog-0.5.0                 |       h23ab428_0          87 KB\r\n",
      "    grpc-cpp-1.46.1            |       h067a048_0         2.5 MB\r\n",
      "    libboost-1.73.0            |      h3fa6bed_12        12.7 MB\r\n",
      "    libevent-2.1.12            |       h0a4fc7d_0         366 KB\r\n",
      "    libprotobuf-3.20.1         |       h8346a28_0         1.8 MB\r\n",
      "    libthrift-0.15.0           |       h054ceb0_0         349 KB\r\n",
      "    orc-1.7.4                  |       h9274d09_0         409 KB\r\n",
      "    pyarrow-8.0.0              |   py39h2202ef3_0         2.3 MB\r\n",
      "    re2-2022.04.01             |       he9d5cce_0         179 KB\r\n",
      "    ruamel.yaml-0.17.21        |   py39hca72f7f_0         179 KB\r\n",
      "    ruamel.yaml.clib-0.2.6     |   py39hca72f7f_1         126 KB\r\n",
      "    thrift-0.17.0              |   py39he9d5cce_0         125 KB\r\n",
      "    utf8proc-2.6.1             |       h9ed2024_0         308 KB\r\n",
      "    ------------------------------------------------------------\r\n",
      "                                           Total:        32.4 MB\r\n",
      "\r\n",
      "The following NEW packages will be INSTALLED:\r\n",
      "\r\n",
      "  abseil-cpp         pkgs/main/osx-64::abseil-cpp-20211102.0-he9d5cce_0 None\r\n",
      "  arrow-cpp          pkgs/main/osx-64::arrow-cpp-8.0.0-py39had1886b_0 None\r\n",
      "  aws-c-common       pkgs/main/osx-64::aws-c-common-0.4.57-hb1e8313_1 None\r\n",
      "  aws-c-event-stream pkgs/main/osx-64::aws-c-event-stream-0.1.6-h23ab428_5 None\r\n",
      "  aws-checksums      pkgs/main/osx-64::aws-checksums-0.1.9-hb1e8313_0 None\r\n",
      "  aws-sdk-cpp        pkgs/main/osx-64::aws-sdk-cpp-1.8.185-he271ece_0 None\r\n",
      "  boost-cpp          pkgs/main/osx-64::boost-cpp-1.73.0-hca72f7f_12 None\r\n",
      "  fastparquet        pkgs/main/osx-64::fastparquet-0.5.0-py39h67323c0_2 None\r\n",
      "  gflags             pkgs/main/osx-64::gflags-2.2.2-h0a44026_0 None\r\n",
      "  glog               pkgs/main/osx-64::glog-0.5.0-h23ab428_0 None\r\n",
      "  grpc-cpp           pkgs/main/osx-64::grpc-cpp-1.46.1-h067a048_0 None\r\n",
      "  libboost           pkgs/main/osx-64::libboost-1.73.0-h3fa6bed_12 None\r\n",
      "  libevent           pkgs/main/osx-64::libevent-2.1.12-h0a4fc7d_0 None\r\n",
      "  libprotobuf        pkgs/main/osx-64::libprotobuf-3.20.1-h8346a28_0 None\r\n",
      "  libthrift          pkgs/main/osx-64::libthrift-0.15.0-h054ceb0_0 None\r\n",
      "  orc                pkgs/main/osx-64::orc-1.7.4-h9274d09_0 None\r\n",
      "  pyarrow            pkgs/main/osx-64::pyarrow-8.0.0-py39h2202ef3_0 None\r\n",
      "  re2                pkgs/main/osx-64::re2-2022.04.01-he9d5cce_0 None\r\n",
      "  ruamel.yaml        pkgs/main/osx-64::ruamel.yaml-0.17.21-py39hca72f7f_0 None\r\n",
      "  ruamel.yaml.clib   pkgs/main/osx-64::ruamel.yaml.clib-0.2.6-py39hca72f7f_1 None\r\n",
      "  thrift             pkgs/main/osx-64::thrift-0.17.0-py39he9d5cce_0 None\r\n",
      "  utf8proc           pkgs/main/osx-64::utf8proc-2.6.1-h9ed2024_0 None\r\n",
      "\r\n",
      "The following packages will be UPDATED:\r\n",
      "\r\n",
      "  conda                               22.9.0-py39hecd8cb5_0 --> 22.11.1-py39hecd8cb5_4 None\r\n",
      "\r\n",
      "\r\n",
      "\r\n",
      "Downloading and Extracting Packages\r\n",
      "orc-1.7.4            | 409 KB    | ##################################### | 100% \r\n",
      "aws-sdk-cpp-1.8.185  | 1.6 MB    | ##################################### | 100% \r\n",
      "glog-0.5.0           | 87 KB     | ##################################### | 100% \r\n",
      "boost-cpp-1.73.0     | 17 KB     | ##################################### | 100% \r\n",
      "ruamel.yaml-0.17.21  | 179 KB    | ##################################### | 100% \r\n",
      "ruamel.yaml.clib-0.2 | 126 KB    | ##################################### | 100% \r\n",
      "abseil-cpp-20211102. | 933 KB    | ##################################### | 100% \r\n",
      "grpc-cpp-1.46.1      | 2.5 MB    | ##################################### | 100% \r\n",
      "aws-c-common-0.4.57  | 140 KB    | ##################################### | 100% \r\n",
      "libboost-1.73.0      | 12.7 MB   | ##################################### | 100% \r\n",
      "thrift-0.17.0        | 125 KB    | ##################################### | 100% \r\n",
      "aws-checksums-0.1.9  | 47 KB     | ##################################### | 100% \r\n",
      "libevent-2.1.12      | 366 KB    | ##################################### | 100% \r\n",
      "pyarrow-8.0.0        | 2.3 MB    | ##################################### | 100% \r\n",
      "fastparquet-0.5.0    | 173 KB    | ##################################### | 100% \r\n",
      "conda-22.11.1        | 941 KB    | ##################################### | 100% \r\n",
      "utf8proc-2.6.1       | 308 KB    | ##################################### | 100% \r\n",
      "gflags-2.2.2         | 104 KB    | ##################################### | 100% \r\n",
      "libprotobuf-3.20.1   | 1.8 MB    | ##################################### | 100% \r\n",
      "re2-2022.04.01       | 179 KB    | ##################################### | 100% \r\n",
      "libthrift-0.15.0     | 349 KB    | ##################################### | 100% \r\n",
      "arrow-cpp-8.0.0      | 7.0 MB    | ##################################### | 100% \r\n",
      "aws-c-event-stream-0 | 21 KB     | ##################################### | 100% \r\n",
      "Preparing transaction: done\r\n",
      "Verifying transaction: \\ WARNING conda.core.path_actions:verify(962): Unable to create environments file. Path not writable.\r\n",
      "  environment location: /Users/auto/.conda/environments.txt\r\n",
      "\r\n",
      "done\r\n",
      "Executing transaction: done\r\n",
      "Retrieving notices: ...working... done\r\n",
      "Collecting package metadata (current_repodata.json): done\r\n",
      "Solving environment: done\r\n",
      "\r\n",
      "# All requested packages already installed.\r\n",
      "\r\n",
      "Collecting package metadata (current_repodata.json): done\r\n",
      "Solving environment: done\r\n",
      "\r\n",
      "# All requested packages already installed.\r\n",
      "\r\n"
     ]
    }
   ],
   "source": [
    "!conda install pyarrow fastparquet -y"
   ],
   "metadata": {
    "collapsed": false
   }
  },
  {
   "cell_type": "code",
   "execution_count": 8,
   "outputs": [],
   "source": [
    "import pandas as pd\n",
    "# !pip install pyarrow fastparquet\n",
    "\n",
    "target_directory = '../../../../data'\n",
    "trip_file = 'fhvhv_tripdata_2020-03'\n",
    "zone_file = '01/taxi+_zone_lookup'  # 01 추가"
   ],
   "metadata": {
    "collapsed": false
   }
  },
  {
   "cell_type": "code",
   "execution_count": 53,
   "outputs": [],
   "source": [
    "trip_df = pd.read_parquet('%s/%s.parquet' % (target_directory, trip_file))\n",
    "trip_df.to_csv(f'{target_directory}/{trip_file}.csv')"
   ],
   "metadata": {
    "collapsed": false
   }
  },
  {
   "cell_type": "code",
   "execution_count": 9,
   "outputs": [],
   "source": [
    "trip_data = spark.read.csv(f'{target_directory}/{trip_file}.csv', header=True)\n",
    "zone_data = spark.read.csv(f'{target_directory}/{zone_file}.csv', header=True)"
   ],
   "metadata": {
    "collapsed": false
   }
  },
  {
   "cell_type": "markdown",
   "source": [
    "`header=True`\n",
    "\n",
    "아래와 같은 형식 생성을 방지할 수 있음.\n",
    "+----+-----------------+--------------------+--------------------+-------------------+-------------------+-------------------+-------------------+------------+------------+----------+---------+-------------------+-----+----+---------+--------------------+-----------+----+----------+-------------------+-----------------+------------------+----------------+--------------+\n",
    "| _c0|              _c1|                 _c2|                 _c3|                _c4|                _c5|                _c6|                _c7|         _c8|         _c9|      _c10|     _c11|               _c12| _c13|_c14|     _c15|                _c16|       _c17|_c18|      _c19|               _c20|             _c21|              _c22|            _c23|          _c24|\n",
    "+----+-----------------+--------------------+--------------------+-------------------+-------------------+-------------------+-------------------+------------+------------+----------+---------+-------------------+-----+----+---------+--------------------+-----------+----+----------+-------------------+-----------------+------------------+----------------+--------------+\n",
    "|null|hvfhs_license_num|dispatching_base_num|originating_base_num|   request_datetime|  on_scene_datetime|    pickup_datetime|   dropoff_datetime|PULocationID|DOLocationID|trip_miles|trip_time|base_passenger_fare|tolls| bcf|sales_tax|congestion_surcharge|airport_fee|tips|driver_pay|shared_request_flag|shared_match_flag|access_a_ride_flag|wav_request_flag|wav_match_flag|\n",
    "|   0|           HV0005|              B02510|                null|2020-03-01 00:00:12|               null|2020-03-01 00:03:40|2020-03-01 00:23:39|          81|         159|     8.655|     1199|              24.45|  0.0|0.54|      1.9|                 0.0|       null| 0.0|     19.65|                  N|                N|                 N|               N|             N|\n"
   ],
   "metadata": {
    "collapsed": false
   }
  },
  {
   "cell_type": "code",
   "execution_count": 57,
   "outputs": [
    {
     "name": "stdout",
     "output_type": "stream",
     "text": [
      "22/12/25 21:08:31 WARN CSVHeaderChecker: CSV header does not conform to the schema.\n",
      " Header: , hvfhs_license_num, dispatching_base_num, originating_base_num, request_datetime, on_scene_datetime, pickup_datetime, dropoff_datetime, PULocationID, DOLocationID, trip_miles, trip_time, base_passenger_fare, tolls, bcf, sales_tax, congestion_surcharge, airport_fee, tips, driver_pay, shared_request_flag, shared_match_flag, access_a_ride_flag, wav_request_flag, wav_match_flag\n",
      " Schema: _c0, hvfhs_license_num, dispatching_base_num, originating_base_num, request_datetime, on_scene_datetime, pickup_datetime, dropoff_datetime, PULocationID, DOLocationID, trip_miles, trip_time, base_passenger_fare, tolls, bcf, sales_tax, congestion_surcharge, airport_fee, tips, driver_pay, shared_request_flag, shared_match_flag, access_a_ride_flag, wav_request_flag, wav_match_flag\n",
      "Expected: _c0 but found: \n",
      "CSV file: file:///Users/auto/github/spark/data/fhvhv_tripdata_2020-03.csv\n",
      "+---+-----------------+--------------------+--------------------+-------------------+-------------------+-------------------+-------------------+------------+------------+----------+---------+-------------------+-----+----+---------+--------------------+-----------+----+----------+-------------------+-----------------+------------------+----------------+--------------+\n",
      "|_c0|hvfhs_license_num|dispatching_base_num|originating_base_num|   request_datetime|  on_scene_datetime|    pickup_datetime|   dropoff_datetime|PULocationID|DOLocationID|trip_miles|trip_time|base_passenger_fare|tolls| bcf|sales_tax|congestion_surcharge|airport_fee|tips|driver_pay|shared_request_flag|shared_match_flag|access_a_ride_flag|wav_request_flag|wav_match_flag|\n",
      "+---+-----------------+--------------------+--------------------+-------------------+-------------------+-------------------+-------------------+------------+------------+----------+---------+-------------------+-----+----+---------+--------------------+-----------+----+----------+-------------------+-----------------+------------------+----------------+--------------+\n",
      "|  0|           HV0005|              B02510|                null|2020-03-01 00:00:12|               null|2020-03-01 00:03:40|2020-03-01 00:23:39|          81|         159|     8.655|     1199|              24.45|  0.0|0.54|      1.9|                 0.0|       null| 0.0|     19.65|                  N|                N|                 N|               N|             N|\n",
      "|  1|           HV0005|              B02510|                null|2020-03-01 00:22:03|               null|2020-03-01 00:28:05|2020-03-01 00:38:57|         168|         119|     3.523|      652|              11.88|  0.0|0.24|     0.85|                 0.0|       null| 0.0|      9.37|                  N|                N|                 N|               N|             N|\n",
      "|  2|           HV0003|              B02764|              B02764|2020-02-29 23:57:45|2020-03-01 00:01:04|2020-03-01 00:03:07|2020-03-01 00:15:04|         137|         209|      4.07|      717|              14.57|  0.0|0.38|     1.38|                2.75|       null| 0.0|     16.24|                  N|                Y|                  |               N|             N|\n",
      "|  3|           HV0003|              B02764|              B02764|2020-03-01 00:04:06|2020-03-01 00:15:48|2020-03-01 00:18:42|2020-03-01 00:38:42|         209|          80|      4.73|     1200|              13.89|  0.0|0.35|     1.23|                0.75|       null| 0.0|     21.76|                  Y|                N|                  |               N|             N|\n",
      "|  4|           HV0003|              B02764|              B02764|2020-03-01 00:42:46|2020-03-01 00:43:18|2020-03-01 00:44:24|2020-03-01 00:58:44|         256|         226|      4.03|      860|               20.2|  0.0|0.51|     1.79|                 0.0|       null| 0.0|     19.64|                  N|                N|                  |               N|             N|\n",
      "|  5|           HV0003|              B02682|              B02682|2020-03-01 00:13:59|2020-03-01 00:16:27|2020-03-01 00:17:23|2020-03-01 00:39:35|          79|         263|      4.57|     1332|              36.81|  0.0|0.92|     3.27|                2.75|       null| 0.0|     35.85|                  N|                N|                  |               N|             N|\n",
      "|  6|           HV0003|              B02764|              B02764|2020-02-29 23:54:30|2020-02-29 23:58:32|2020-03-01 00:01:18|2020-03-01 00:38:52|          61|          29|     11.36|     2254|              37.61|  0.0|1.02|     3.63|                 0.0|       null| 0.0|     31.39|                  N|                N|                  |               N|             N|\n",
      "|  7|           HV0003|              B02764|              B02764|2020-03-01 00:38:21|2020-03-01 00:42:08|2020-03-01 00:43:27|2020-03-01 00:47:27|         150|         150|      0.48|      240|               7.69|  0.0|0.18|     0.68|                 0.0|       null| 0.0|      5.39|                  N|                Y|                  |               N|             N|\n",
      "|  8|           HV0003|              B02764|              B02764|2020-03-01 00:45:56|2020-03-01 00:49:44|2020-03-01 00:52:23|2020-03-01 01:00:15|         150|         210|      1.15|      472|               7.06|  0.0|0.18|     0.63|                 0.0|       null| 0.0|     10.29|                  N|                N|                  |               N|             N|\n",
      "|  9|           HV0003|              B02764|              B02764|2020-03-01 00:13:34|2020-03-01 00:15:58|2020-03-01 00:19:49|2020-03-01 00:23:40|          60|         167|      0.89|      231|               3.17|  0.0|0.08|     0.28|                 0.0|       null| 0.0|      5.39|                  N|                N|                  |               N|             N|\n",
      "| 10|           HV0003|              B02764|              B02764|2020-03-01 00:26:07|2020-03-01 00:26:24|2020-03-01 00:29:34|2020-03-01 00:39:19|          47|         213|       3.7|      585|              11.51|  0.0|0.29|     1.02|                 0.0|       null| 0.0|      8.98|                  N|                N|                  |               N|             N|\n",
      "| 11|           HV0003|              B02764|              B02764|2020-03-01 00:39:16|2020-03-01 00:39:28|2020-03-01 00:41:44|2020-03-01 00:58:13|         213|         235|      4.63|      989|               8.56|  0.0|0.21|     0.76|                 0.0|       null| 0.0|     13.38|                  N|                N|                  |               N|             N|\n",
      "| 12|           HV0003|              B02765|              B02765|2020-03-01 00:06:45|2020-03-01 00:08:57|2020-03-01 00:11:26|2020-03-01 00:24:46|         243|         153|      2.35|      801|              10.85|  0.0|0.27|     0.96|                 0.0|       null| 0.0|      9.29|                  N|                N|                  |               N|             N|\n",
      "| 13|           HV0003|              B02765|              B02765|2020-03-01 00:21:41|2020-03-01 00:25:53|2020-03-01 00:28:05|2020-03-01 00:38:56|         127|          18|      1.77|      651|                9.4|  0.0|0.24|     0.83|                 0.0|       null| 0.0|     11.14|                  N|                N|                  |               N|             N|\n",
      "| 14|           HV0003|              B02765|              B02765|2020-03-01 00:38:41|2020-03-01 00:42:38|2020-03-01 00:44:28|2020-03-01 00:52:09|          18|         169|      1.32|      461|               3.59|  0.0|0.09|     0.32|                 0.0|       null| 0.0|      5.39|                  N|                N|                  |               N|             N|\n",
      "| 15|           HV0003|              B02765|              B02765|2020-03-01 00:52:15|2020-03-01 00:54:14|2020-03-01 00:56:50|2020-03-01 00:59:26|          94|         169|      0.46|      156|               3.46|  0.0|0.09|     0.31|                 0.0|       null| 0.0|      5.42|                  N|                N|                  |               N|             N|\n",
      "| 16|           HV0003|              B02764|              B02764|2020-03-01 00:52:20|2020-03-01 00:54:57|2020-03-01 00:56:14|2020-03-01 01:03:38|         211|         158|      1.04|      444|               4.08|  0.0|0.13|     0.46|                2.75|       null| 0.0|      7.14|                  N|                N|                  |               N|             N|\n",
      "| 17|           HV0003|              B02764|              B02764|2020-03-01 00:06:22|2020-03-01 00:11:58|2020-03-01 00:14:15|2020-03-01 00:26:47|         246|         107|      1.82|      752|                9.1|  0.0|0.31|     0.81|                2.75|       null| 3.0|       8.3|                  N|                N|                  |               N|             N|\n",
      "| 18|           HV0003|              B02764|              B02764|2020-03-01 00:23:00|2020-03-01 00:28:42|2020-03-01 00:31:38|2020-03-01 00:58:07|         234|           9|     12.56|     1589|              60.06| 6.12|1.79|     5.89|                2.75|       null| 5.0|      36.0|                  N|                N|                  |               N|             N|\n",
      "| 19|           HV0005|              B02510|                null|2020-03-01 00:23:25|               null|2020-03-01 00:26:31|2020-03-01 00:38:07|         139|          10|     5.156|      696|              15.66|  0.0|0.49|     1.75|                 0.0|       null| 2.0|       0.0|                  Y|                N|                 N|               N|             N|\n",
      "+---+-----------------+--------------------+--------------------+-------------------+-------------------+-------------------+-------------------+------------+------------+----------+---------+-------------------+-----+----+---------+--------------------+-----------+----+----------+-------------------+-----------------+------------------+----------------+--------------+\n",
      "only showing top 20 rows\n",
      "\n"
     ]
    }
   ],
   "source": [
    "trip_data.show()"
   ],
   "metadata": {
    "collapsed": false
   }
  },
  {
   "cell_type": "code",
   "execution_count": 14,
   "outputs": [],
   "source": [
    "trip_data.createOrReplaceTempView(\"trip_data\")\n",
    "zone_data.createOrReplaceTempView(\"zone_data\")"
   ],
   "metadata": {
    "collapsed": false
   }
  },
  {
   "cell_type": "code",
   "execution_count": 15,
   "outputs": [
    {
     "name": "stdout",
     "output_type": "stream",
     "text": [
      "22/12/25 21:35:02 WARN CSVHeaderChecker: CSV header does not conform to the schema.\n",
      " Header: , hvfhs_license_num, dispatching_base_num, originating_base_num, request_datetime, on_scene_datetime, pickup_datetime, dropoff_datetime, PULocationID, DOLocationID, trip_miles, trip_time, base_passenger_fare, tolls, bcf, sales_tax, congestion_surcharge, airport_fee, tips, driver_pay, shared_request_flag, shared_match_flag, access_a_ride_flag, wav_request_flag, wav_match_flag\n",
      " Schema: _c0, hvfhs_license_num, dispatching_base_num, originating_base_num, request_datetime, on_scene_datetime, pickup_datetime, dropoff_datetime, PULocationID, DOLocationID, trip_miles, trip_time, base_passenger_fare, tolls, bcf, sales_tax, congestion_surcharge, airport_fee, tips, driver_pay, shared_request_flag, shared_match_flag, access_a_ride_flag, wav_request_flag, wav_match_flag\n",
      "Expected: _c0 but found: \n",
      "CSV file: file:///Users/auto/github/spark/data/fhvhv_tripdata_2020-03.csv\n",
      "+---+-----------------+--------------------+--------------------+-------------------+-------------------+-------------------+-------------------+------------+------------+----------+---------+-------------------+-----+----+---------+--------------------+-----------+----+----------+-------------------+-----------------+------------------+----------------+--------------+\n",
      "|_c0|hvfhs_license_num|dispatching_base_num|originating_base_num|   request_datetime|  on_scene_datetime|    pickup_datetime|   dropoff_datetime|PULocationID|DOLocationID|trip_miles|trip_time|base_passenger_fare|tolls| bcf|sales_tax|congestion_surcharge|airport_fee|tips|driver_pay|shared_request_flag|shared_match_flag|access_a_ride_flag|wav_request_flag|wav_match_flag|\n",
      "+---+-----------------+--------------------+--------------------+-------------------+-------------------+-------------------+-------------------+------------+------------+----------+---------+-------------------+-----+----+---------+--------------------+-----------+----+----------+-------------------+-----------------+------------------+----------------+--------------+\n",
      "|  0|           HV0005|              B02510|                null|2020-03-01 00:00:12|               null|2020-03-01 00:03:40|2020-03-01 00:23:39|          81|         159|     8.655|     1199|              24.45|  0.0|0.54|      1.9|                 0.0|       null| 0.0|     19.65|                  N|                N|                 N|               N|             N|\n",
      "|  1|           HV0005|              B02510|                null|2020-03-01 00:22:03|               null|2020-03-01 00:28:05|2020-03-01 00:38:57|         168|         119|     3.523|      652|              11.88|  0.0|0.24|     0.85|                 0.0|       null| 0.0|      9.37|                  N|                N|                 N|               N|             N|\n",
      "|  2|           HV0003|              B02764|              B02764|2020-02-29 23:57:45|2020-03-01 00:01:04|2020-03-01 00:03:07|2020-03-01 00:15:04|         137|         209|      4.07|      717|              14.57|  0.0|0.38|     1.38|                2.75|       null| 0.0|     16.24|                  N|                Y|                  |               N|             N|\n",
      "|  3|           HV0003|              B02764|              B02764|2020-03-01 00:04:06|2020-03-01 00:15:48|2020-03-01 00:18:42|2020-03-01 00:38:42|         209|          80|      4.73|     1200|              13.89|  0.0|0.35|     1.23|                0.75|       null| 0.0|     21.76|                  Y|                N|                  |               N|             N|\n",
      "|  4|           HV0003|              B02764|              B02764|2020-03-01 00:42:46|2020-03-01 00:43:18|2020-03-01 00:44:24|2020-03-01 00:58:44|         256|         226|      4.03|      860|               20.2|  0.0|0.51|     1.79|                 0.0|       null| 0.0|     19.64|                  N|                N|                  |               N|             N|\n",
      "+---+-----------------+--------------------+--------------------+-------------------+-------------------+-------------------+-------------------+------------+------------+----------+---------+-------------------+-----+----+---------+--------------------+-----------+----+----------+-------------------+-----------------+------------------+----------------+--------------+\n",
      "\n"
     ]
    }
   ],
   "source": [
    "spark.sql(\"select * from trip_data\").limit(5).show()"
   ],
   "metadata": {
    "collapsed": false
   }
  },
  {
   "cell_type": "code",
   "execution_count": 16,
   "outputs": [
    {
     "name": "stdout",
     "output_type": "stream",
     "text": [
      "+----------+-------------+--------------------+------------+\n",
      "|LocationID|      Borough|                Zone|service_zone|\n",
      "+----------+-------------+--------------------+------------+\n",
      "|         1|          EWR|      Newark Airport|         EWR|\n",
      "|         2|       Queens|         Jamaica Bay|   Boro Zone|\n",
      "|         3|        Bronx|Allerton/Pelham G...|   Boro Zone|\n",
      "|         4|    Manhattan|       Alphabet City| Yellow Zone|\n",
      "|         5|Staten Island|       Arden Heights|   Boro Zone|\n",
      "+----------+-------------+--------------------+------------+\n",
      "\n"
     ]
    }
   ],
   "source": [
    "spark.sql(\"select * from zone_data\").limit(5).show()"
   ],
   "metadata": {
    "collapsed": false
   }
  },
  {
   "cell_type": "code",
   "execution_count": 35,
   "outputs": [
    {
     "name": "stderr",
     "output_type": "stream",
     "text": [
      "[Stage 33:====================================>                   (11 + 6) / 17]\r"
     ]
    },
    {
     "name": "stdout",
     "output_type": "stream",
     "text": [
      "+-------------+-------+\n",
      "|      borough|  tiprs|\n",
      "+-------------+-------+\n",
      "|    Manhattan|4953147|\n",
      "|     Brooklyn|3735765|\n",
      "|       Queens|2437394|\n",
      "|        Bronx|2086597|\n",
      "|Staten Island| 178818|\n",
      "|      Unknown|    845|\n",
      "|          EWR|    362|\n",
      "+-------------+-------+\n",
      "\n"
     ]
    },
    {
     "name": "stderr",
     "output_type": "stream",
     "text": [
      "                                                                                \r"
     ]
    }
   ],
   "source": [
    "# PULocation Pickup location\n",
    "# 멘하탄 승차\n",
    "spark.sql(\"select borough, count(*) as tiprs \"\n",
    "          \"from (select zone_data.Borough as borough\"\n",
    "                \" from trip_data join zone_data on trip_data.PULocationID = zone_data.LocationID) group by borough order by tiprs desc\").show()"
   ],
   "metadata": {
    "collapsed": false
   }
  },
  {
   "cell_type": "code",
   "execution_count": 36,
   "outputs": [
    {
     "name": "stderr",
     "output_type": "stream",
     "text": [
      "[Stage 37:====================================>                   (11 + 6) / 17]\r"
     ]
    },
    {
     "name": "stdout",
     "output_type": "stream",
     "text": [
      "+-------------+-------+\n",
      "|      borough|  tiprs|\n",
      "+-------------+-------+\n",
      "|    Manhattan|4553783|\n",
      "|     Brooklyn|3696684|\n",
      "|       Queens|2468416|\n",
      "|        Bronx|2043492|\n",
      "|      Unknown| 387760|\n",
      "|Staten Island| 177727|\n",
      "|          EWR|  65066|\n",
      "+-------------+-------+\n",
      "\n"
     ]
    },
    {
     "name": "stderr",
     "output_type": "stream",
     "text": [
      "                                                                                \r"
     ]
    }
   ],
   "source": [
    "# DOLocation Drop location\n",
    "# 멘하탄 하차, EWR, 공항이 증가함\n",
    "spark.sql(\"select borough, count(*) as tiprs \"\n",
    "          \"from (select zone_data.Borough as borough\"\n",
    "                \" from trip_data join zone_data on trip_data.DOLocationID = zone_data.LocationID) group by borough order by tiprs desc\").show()"
   ],
   "metadata": {
    "collapsed": false
   }
  },
  {
   "cell_type": "markdown",
   "source": [
    "# explain(True)\n",
    "## 실행 계획 확인하기"
   ],
   "metadata": {
    "collapsed": false
   }
  },
  {
   "cell_type": "code",
   "execution_count": 37,
   "outputs": [
    {
     "name": "stdout",
     "output_type": "stream",
     "text": [
      "== Parsed Logical Plan ==\n",
      "'Sort ['tiprs DESC NULLS LAST], true\n",
      "+- 'Aggregate ['borough], ['borough, 'count(1) AS tiprs#1138]\n",
      "   +- 'SubqueryAlias __auto_generated_subquery_name\n",
      "      +- 'Project ['zone_data.Borough AS borough#1137]\n",
      "         +- 'Join Inner, ('trip_data.DOLocationID = 'zone_data.LocationID)\n",
      "            :- 'UnresolvedRelation [trip_data], [], false\n",
      "            +- 'UnresolvedRelation [zone_data], [], false\n",
      "\n",
      "== Analyzed Logical Plan ==\n",
      "borough: string, tiprs: bigint\n",
      "Sort [tiprs#1138L DESC NULLS LAST], true\n",
      "+- Aggregate [borough#1137], [borough#1137, count(1) AS tiprs#1138L]\n",
      "   +- SubqueryAlias __auto_generated_subquery_name\n",
      "      +- Project [Borough#152 AS borough#1137]\n",
      "         +- Join Inner, (DOLocationID#93 = LocationID#151)\n",
      "            :- SubqueryAlias trip_data\n",
      "            :  +- View (`trip_data`, [_c0#84,hvfhs_license_num#85,dispatching_base_num#86,originating_base_num#87,request_datetime#88,on_scene_datetime#89,pickup_datetime#90,dropoff_datetime#91,PULocationID#92,DOLocationID#93,trip_miles#94,trip_time#95,base_passenger_fare#96,tolls#97,bcf#98,sales_tax#99,congestion_surcharge#100,airport_fee#101,tips#102,driver_pay#103,shared_request_flag#104,shared_match_flag#105,access_a_ride_flag#106,wav_request_flag#107,wav_match_flag#108])\n",
      "            :     +- Relation [_c0#84,hvfhs_license_num#85,dispatching_base_num#86,originating_base_num#87,request_datetime#88,on_scene_datetime#89,pickup_datetime#90,dropoff_datetime#91,PULocationID#92,DOLocationID#93,trip_miles#94,trip_time#95,base_passenger_fare#96,tolls#97,bcf#98,sales_tax#99,congestion_surcharge#100,airport_fee#101,tips#102,driver_pay#103,shared_request_flag#104,shared_match_flag#105,access_a_ride_flag#106,wav_request_flag#107,wav_match_flag#108] csv\n",
      "            +- SubqueryAlias zone_data\n",
      "               +- View (`zone_data`, [LocationID#151,Borough#152,Zone#153,service_zone#154])\n",
      "                  +- Relation [LocationID#151,Borough#152,Zone#153,service_zone#154] csv\n",
      "\n",
      "== Optimized Logical Plan ==\n",
      "Sort [tiprs#1138L DESC NULLS LAST], true\n",
      "+- Aggregate [borough#1137], [borough#1137, count(1) AS tiprs#1138L]\n",
      "   +- Project [Borough#152 AS borough#1137]\n",
      "      +- Join Inner, (DOLocationID#93 = LocationID#151)\n",
      "         :- Project [DOLocationID#93]\n",
      "         :  +- Filter isnotnull(DOLocationID#93)\n",
      "         :     +- Relation [_c0#84,hvfhs_license_num#85,dispatching_base_num#86,originating_base_num#87,request_datetime#88,on_scene_datetime#89,pickup_datetime#90,dropoff_datetime#91,PULocationID#92,DOLocationID#93,trip_miles#94,trip_time#95,base_passenger_fare#96,tolls#97,bcf#98,sales_tax#99,congestion_surcharge#100,airport_fee#101,tips#102,driver_pay#103,shared_request_flag#104,shared_match_flag#105,access_a_ride_flag#106,wav_request_flag#107,wav_match_flag#108] csv\n",
      "         +- Project [LocationID#151, Borough#152]\n",
      "            +- Filter isnotnull(LocationID#151)\n",
      "               +- Relation [LocationID#151,Borough#152,Zone#153,service_zone#154] csv\n",
      "\n",
      "== Physical Plan ==\n",
      "AdaptiveSparkPlan isFinalPlan=false\n",
      "+- Sort [tiprs#1138L DESC NULLS LAST], true, 0\n",
      "   +- Exchange rangepartitioning(tiprs#1138L DESC NULLS LAST, 200), ENSURE_REQUIREMENTS, [plan_id=1291]\n",
      "      +- HashAggregate(keys=[borough#1137], functions=[count(1)], output=[borough#1137, tiprs#1138L])\n",
      "         +- Exchange hashpartitioning(borough#1137, 200), ENSURE_REQUIREMENTS, [plan_id=1288]\n",
      "            +- HashAggregate(keys=[borough#1137], functions=[partial_count(1)], output=[borough#1137, count#1143L])\n",
      "               +- Project [Borough#152 AS borough#1137]\n",
      "                  +- BroadcastHashJoin [DOLocationID#93], [LocationID#151], Inner, BuildRight, false\n",
      "                     :- Filter isnotnull(DOLocationID#93)\n",
      "                     :  +- FileScan csv [DOLocationID#93] Batched: false, DataFilters: [isnotnull(DOLocationID#93)], Format: CSV, Location: InMemoryFileIndex(1 paths)[file:/Users/auto/github/spark/data/fhvhv_tripdata_2020-03.csv], PartitionFilters: [], PushedFilters: [IsNotNull(DOLocationID)], ReadSchema: struct<DOLocationID:string>\n",
      "                     +- BroadcastExchange HashedRelationBroadcastMode(List(input[0, string, false]),false), [plan_id=1283]\n",
      "                        +- Filter isnotnull(LocationID#151)\n",
      "                           +- FileScan csv [LocationID#151,Borough#152] Batched: false, DataFilters: [isnotnull(LocationID#151)], Format: CSV, Location: InMemoryFileIndex(1 paths)[file:/Users/auto/github/spark/data/01/taxi+_zone_lookup.csv], PartitionFilters: [], PushedFilters: [IsNotNull(LocationID)], ReadSchema: struct<LocationID:string,Borough:string>\n",
      "\n"
     ]
    }
   ],
   "source": [
    "spark.sql(\"select borough, count(*) as tiprs \"\n",
    "          \"from (select zone_data.Borough as borough\"\n",
    "                \" from trip_data join zone_data on trip_data.DOLocationID = zone_data.LocationID) group by borough order by tiprs desc\").explain(True)"
   ],
   "metadata": {
    "collapsed": false
   }
  }
 ],
 "metadata": {
  "kernelspec": {
   "display_name": "Python 3",
   "language": "python",
   "name": "python3"
  },
  "language_info": {
   "codemirror_mode": {
    "name": "ipython",
    "version": 2
   },
   "file_extension": ".py",
   "mimetype": "text/x-python",
   "name": "python",
   "nbconvert_exporter": "python",
   "pygments_lexer": "ipython2",
   "version": "2.7.6"
  }
 },
 "nbformat": 4,
 "nbformat_minor": 0
}
