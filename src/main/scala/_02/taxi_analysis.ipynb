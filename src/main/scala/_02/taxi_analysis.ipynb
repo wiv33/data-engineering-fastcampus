{
 "cells": [
  {
   "cell_type": "markdown",
   "source": [
    "# TLS TRIP RECORD\n",
    "- https://www.nyc.gov/site/tlc/about/tlc-trip-record-data.page\n",
    "- yellow_tripdata_20201-01~07\n",
    "- 옐로우 택시는 시에서 운행하기 때문에 데이터가 더 많다.\n",
    "- 승객이 돈을 얼마나 내고, 팁을 얼마를 주고, 결제가 무엇인지 등의 데이터들이 더 많다.\n"
   ],
   "metadata": {
    "collapsed": false
   }
  },
  {
   "cell_type": "markdown",
   "source": [
    "# Parquet to csv\n"
   ],
   "metadata": {
    "collapsed": false
   }
  },
  {
   "cell_type": "code",
   "execution_count": 13,
   "metadata": {
    "collapsed": true
   },
   "outputs": [
    {
     "name": "stdout",
     "output_type": "stream",
     "text": [
      "parquet to csv :  ../../../../data/trips yellow_tripdata_2021-01\n",
      "parquet to csv :  ../../../../data/trips yellow_tripdata_2021-02\n",
      "parquet to csv :  ../../../../data/trips yellow_tripdata_2021-03\n",
      "parquet to csv :  ../../../../data/trips yellow_tripdata_2021-04\n",
      "parquet to csv :  ../../../../data/trips yellow_tripdata_2021-05\n",
      "parquet to csv :  ../../../../data/trips yellow_tripdata_2021-06\n",
      "parquet to csv :  ../../../../data/trips yellow_tripdata_2021-07\n"
     ]
    }
   ],
   "source": [
    "import pandas as pd\n",
    "\n",
    "# !pip install pyarrow fastparquet\n",
    "\n",
    "origin_directory = '../../../../data'\n",
    "output_directory = f'{origin_directory}/trips'\n",
    "# yellow_tripdata_2009-01.parquet\n",
    "for i in range(1, 8):\n",
    "    taxi_file = f'yellow_tripdata_2021-0{i}'\n",
    "    print(\"parquet to csv : \", output_directory, taxi_file)\n",
    "    pd.read_parquet(f'{origin_directory}/{taxi_file}.parquet').to_csv(f'{output_directory}/{taxi_file}.csv')"
   ]
  },
  {
   "cell_type": "code",
   "execution_count": 24,
   "outputs": [],
   "source": [
    "from pyspark.sql import SparkSession"
   ],
   "metadata": {
    "collapsed": false
   }
  },
  {
   "cell_type": "code",
   "execution_count": 29,
   "outputs": [],
   "source": [
    "spark = SparkSession.builder.appName(\"taxi-analysis\").getOrCreate()"
   ],
   "metadata": {
    "collapsed": false
   }
  },
  {
   "cell_type": "code",
   "execution_count": 30,
   "outputs": [],
   "source": [
    "trip_file = f'{output_directory}/*'\n",
    "zone_file = f'{origin_directory}/01/taxi+_zone_lookup.csv'  # 01 추가\n"
   ],
   "metadata": {
    "collapsed": false
   }
  },
  {
   "cell_type": "code",
   "execution_count": 31,
   "outputs": [
    {
     "name": "stderr",
     "output_type": "stream",
     "text": [
      "                                                                                \r"
     ]
    }
   ],
   "source": [
    "trips_df = spark.read.csv(f'{trip_file}', header=True, inferSchema=True)\n",
    "zone_df = spark.read.csv(f'{zone_file}', header=True, inferSchema=True)"
   ],
   "metadata": {
    "collapsed": false
   }
  },
  {
   "cell_type": "code",
   "execution_count": 32,
   "outputs": [],
   "source": [
    "trips_df.createOrReplaceTempView(\"trips\")\n",
    "zone_df.createOrReplaceTempView(\"zone\")"
   ],
   "metadata": {
    "collapsed": false
   }
  },
  {
   "cell_type": "code",
   "execution_count": 33,
   "outputs": [
    {
     "name": "stdout",
     "output_type": "stream",
     "text": [
      "root\n",
      " |-- _c0: integer (nullable = true)\n",
      " |-- VendorID: integer (nullable = true)\n",
      " |-- tpep_pickup_datetime: timestamp (nullable = true)\n",
      " |-- tpep_dropoff_datetime: timestamp (nullable = true)\n",
      " |-- passenger_count: double (nullable = true)\n",
      " |-- trip_distance: double (nullable = true)\n",
      " |-- RatecodeID: double (nullable = true)\n",
      " |-- store_and_fwd_flag: string (nullable = true)\n",
      " |-- PULocationID: integer (nullable = true)\n",
      " |-- DOLocationID: integer (nullable = true)\n",
      " |-- payment_type: integer (nullable = true)\n",
      " |-- fare_amount: double (nullable = true)\n",
      " |-- extra: double (nullable = true)\n",
      " |-- mta_tax: double (nullable = true)\n",
      " |-- tip_amount: double (nullable = true)\n",
      " |-- tolls_amount: double (nullable = true)\n",
      " |-- improvement_surcharge: double (nullable = true)\n",
      " |-- total_amount: double (nullable = true)\n",
      " |-- congestion_surcharge: double (nullable = true)\n",
      " |-- airport_fee: double (nullable = true)\n",
      "\n",
      "root\n",
      " |-- LocationID: integer (nullable = true)\n",
      " |-- Borough: string (nullable = true)\n",
      " |-- Zone: string (nullable = true)\n",
      " |-- service_zone: string (nullable = true)\n",
      "\n"
     ]
    }
   ],
   "source": [
    "trips_df.printSchema()\n",
    "zone_df.printSchema()"
   ],
   "metadata": {
    "collapsed": false
   }
  },
  {
   "cell_type": "code",
   "execution_count": 36,
   "outputs": [
    {
     "name": "stdout",
     "output_type": "stream",
     "text": [
      "+---------+-----------+------------+-----------+------------+---------------+-------------+-----------+----------+------------+------------+------------+--------------------+--------------------+\n",
      "|vendor_id|pickup_date|dropoff_date|pickup_time|dropoff_time|passenger_count|trip_distance|fare_amount|tip_amount|tolls_amount|total_amount|payment_type|         pickup_zone|        dropoff_zone|\n",
      "+---------+-----------+------------+-----------+------------+---------------+-------------+-----------+----------+------------+------------+------------+--------------------+--------------------+\n",
      "|        1| 2021-01-01|  2021-01-01|          0|           0|            1.0|          2.1|        8.0|       0.0|         0.0|        11.8|           2| Lincoln Square East|        Central Park|\n",
      "|        1| 2021-01-01|  2021-01-01|          0|           0|            1.0|          0.2|        3.0|       0.0|         0.0|         4.3|           2|Upper West Side N...|    Manhattan Valley|\n",
      "|        1| 2021-01-01|  2021-01-01|          0|           1|            1.0|         14.7|       42.0|      8.65|         0.0|       51.95|           1|         JFK Airport|             Midwood|\n",
      "|        1| 2021-01-01|  2021-01-01|          0|           0|            0.0|         10.6|       29.0|      6.05|         0.0|       36.35|           1|   LaGuardia Airport|         JFK Airport|\n",
      "|        2| 2021-01-01|  2021-01-01|          0|           0|            1.0|         4.94|       16.5|      4.06|         0.0|       24.36|           1|        East Chelsea|    Brooklyn Heights|\n",
      "|        1| 2021-01-01|  2021-01-01|          0|           0|            1.0|          1.6|        8.0|      2.35|         0.0|       14.15|           1|Stuy Town/Peter C...|        East Chelsea|\n",
      "|        1| 2021-01-01|  2021-01-01|          0|           0|            1.0|          4.1|       16.0|       0.0|         0.0|        17.3|           2|        Forest Hills|             Maspeth|\n",
      "|        1| 2021-01-01|  2021-01-01|          0|           0|            1.0|          5.7|       18.0|       0.0|         0.0|        21.8|           2|            Flatiron|     Carroll Gardens|\n",
      "|        1| 2021-01-01|  2021-01-01|          0|           1|            1.0|          9.1|       27.5|       0.0|         0.0|        28.8|           4|         Fort Greene|     Jackson Heights|\n",
      "|        1| 2021-01-01|  2021-01-01|          0|           0|            2.0|          2.7|       12.0|      3.15|         0.0|       18.95|           1|      Yorkville West| Lincoln Square East|\n",
      "|        2| 2021-01-01|  2021-01-01|          0|           0|            3.0|         6.11|       20.5|       0.0|         0.0|        24.3|           1|       Midtown South|Williamsburg (Nor...|\n",
      "|        2| 2021-01-01|  2021-01-01|          0|           0|            2.0|         1.21|        7.0|      2.49|         0.0|       10.79|           1|Williamsburg (Nor...|   East Williamsburg|\n",
      "|        1| 2021-01-01|  2021-01-01|          0|           0|            2.0|          7.4|       24.5|       0.0|        6.12|       33.92|           2|   LaGuardia Airport| Morningside Heights|\n",
      "|        2| 2021-01-01|  2021-01-01|          0|           0|            5.0|          1.7|        8.0|      2.36|         0.0|       14.16|           1| Lincoln Square East|        Clinton West|\n",
      "|        2| 2021-01-01|  2021-01-01|          0|           0|            5.0|         0.81|        4.5|       0.0|         0.0|         8.3|           2|        Clinton West| Lincoln Square East|\n",
      "|        2| 2021-01-01|  2021-01-01|          0|           0|            1.0|         1.01|        5.5|       1.0|         0.0|        10.3|           1|Upper East Side N...|Upper East Side S...|\n",
      "|        2| 2021-01-01|  2021-01-01|          0|           0|            1.0|         0.73|        5.5|      2.79|         0.0|       12.09|           1| Lincoln Square East|Upper West Side S...|\n",
      "|        2| 2021-01-01|  2021-01-01|          0|           0|            1.0|         1.17|        6.5|      2.06|         0.0|       12.36|           1|Upper West Side N...| Morningside Heights|\n",
      "|        2| 2021-01-01|  2021-01-01|          0|           0|            1.0|         0.78|        4.5|      1.66|         0.0|        9.96|           1|Upper West Side S...|Upper West Side N...|\n",
      "|        2| 2021-01-01|  2021-01-01|          0|           0|            2.0|         1.66|        8.5|       0.0|         0.0|        12.3|           2|    Manhattan Valley| Lincoln Square East|\n",
      "+---------+-----------+------------+-----------+------------+---------------+-------------+-----------+----------+------------+------------+------------+--------------------+--------------------+\n",
      "only showing top 20 rows\n",
      "\n"
     ]
    }
   ],
   "source": [
    "query = \"\"\"\n",
    "SELECT\n",
    "    t.VendorID as vendor_id,\n",
    "    TO_DATE(t.tpep_pickup_datetime) as pickup_date,  -- 승차 일자\n",
    "    TO_DATE(t.tpep_dropoff_datetime) as dropoff_date,-- 하차 일자\n",
    "    HOUR(t.tpep_pickup_datetime) as pickup_time,     -- 승차 시간\n",
    "    HOUR(t.tpep_dropoff_datetime) as dropoff_time,   -- 하차 시간\n",
    "    t.passenger_count,\n",
    "    t.trip_distance,\n",
    "    t.fare_amount,\n",
    "    t.tip_amount,\n",
    "    t.tolls_amount,\n",
    "    t.total_amount,\n",
    "    t.payment_type,\n",
    "    pz.Zone as pickup_zone,\n",
    "    dz.Zone as dropoff_zone\n",
    "FROM trips t\n",
    "LEFT JOIN zone pz\n",
    "    ON t.PULocationID = pz.LocationID\n",
    "LEFT JOIN zone dz\n",
    "    ON t.DOLocationID = dz.LocationID\n",
    "\"\"\"\n",
    "comb_df = spark.sql(query)\n",
    "comb_df.show()\n",
    "comb_df.createOrReplaceTempView(\"comb\")  # 새 스키마 정의 후 등록"
   ],
   "metadata": {
    "collapsed": false
   }
  },
  {
   "cell_type": "code",
   "execution_count": 40,
   "outputs": [
    {
     "name": "stdout",
     "output_type": "stream",
     "text": [
      "root\n",
      " |-- vendor_id: integer (nullable = true)\n",
      " |-- pickup_date: date (nullable = true)\n",
      " |-- dropoff_date: date (nullable = true)\n",
      " |-- pickup_time: integer (nullable = true)\n",
      " |-- dropoff_time: integer (nullable = true)\n",
      " |-- passenger_count: double (nullable = true)\n",
      " |-- trip_distance: double (nullable = true)\n",
      " |-- fare_amount: double (nullable = true)\n",
      " |-- tip_amount: double (nullable = true)\n",
      " |-- tolls_amount: double (nullable = true)\n",
      " |-- total_amount: double (nullable = true)\n",
      " |-- payment_type: integer (nullable = true)\n",
      " |-- pickup_zone: string (nullable = true)\n",
      " |-- dropoff_zone: string (nullable = true)\n",
      "\n"
     ]
    }
   ],
   "source": [
    "comb_df.printSchema()"
   ],
   "metadata": {
    "collapsed": false
   }
  },
  {
   "cell_type": "markdown",
   "source": [
    "# 정재할 데이터가 있는지 확인"
   ],
   "metadata": {
    "collapsed": false
   }
  },
  {
   "cell_type": "code",
   "execution_count": 42,
   "outputs": [
    {
     "name": "stdout",
     "output_type": "stream",
     "text": [
      "+-----------+-----------+\n",
      "|pickup_date|pickup_time|\n",
      "+-----------+-----------+\n",
      "| 2020-12-31|         23|\n",
      "| 2020-12-31|         21|\n",
      "| 2020-12-31|         23|\n",
      "| 2020-12-31|         18|\n",
      "| 2021-01-01|          1|\n",
      "| 2021-01-01|          1|\n",
      "| 2020-12-31|         23|\n",
      "| 2020-12-31|         13|\n",
      "| 2020-12-31|         23|\n",
      "| 2021-01-01|          1|\n",
      "| 2021-01-01|          1|\n",
      "| 2021-01-01|          1|\n",
      "| 2021-01-01|          1|\n",
      "| 2021-01-01|          1|\n",
      "| 2021-01-01|          1|\n",
      "| 2021-01-01|          1|\n",
      "| 2021-01-01|          1|\n",
      "| 2021-01-01|          1|\n",
      "| 2021-01-01|          1|\n",
      "| 2021-01-01|          1|\n",
      "+-----------+-----------+\n",
      "only showing top 20 rows\n",
      "\n"
     ]
    }
   ],
   "source": [
    "spark.sql(\"\"\"\n",
    "SELECT pickup_date, pickup_time from comb WHERE pickup_time > 0\n",
    "\"\"\").show()"
   ],
   "metadata": {
    "collapsed": false
   }
  },
  {
   "cell_type": "markdown",
   "source": [
    "## 좋지 못한 데이터들\n",
    "## 2008 ~ 2009년 데이터가 있다."
   ],
   "metadata": {
    "collapsed": false
   }
  },
  {
   "cell_type": "code",
   "execution_count": 44,
   "outputs": [
    {
     "name": "stderr",
     "output_type": "stream",
     "text": [
      "[Stage 16:>                                                         (0 + 4) / 4]\r"
     ]
    },
    {
     "name": "stdout",
     "output_type": "stream",
     "text": [
      "+-----------+-----------+\n",
      "|pickup_date|pickup_time|\n",
      "+-----------+-----------+\n",
      "| 2009-01-01|          0|\n",
      "| 2008-12-31|         23|\n",
      "| 2009-01-01|          0|\n",
      "| 2009-01-01|          0|\n",
      "| 2009-01-01|          0|\n",
      "| 2008-12-31|         23|\n",
      "| 2008-12-31|         23|\n",
      "| 2009-01-01|          0|\n",
      "| 2009-01-01|          0|\n",
      "| 2009-01-01|          0|\n",
      "| 2009-01-01|          0|\n",
      "| 2009-01-01|          1|\n",
      "| 2009-01-01|         17|\n",
      "| 2009-01-01|         17|\n",
      "| 2009-01-01|         18|\n",
      "| 2009-01-01|          1|\n",
      "| 2009-01-01|          1|\n",
      "| 2009-01-01|          2|\n",
      "| 2009-01-01|          2|\n",
      "| 2009-01-01|          0|\n",
      "+-----------+-----------+\n",
      "only showing top 20 rows\n",
      "\n"
     ]
    },
    {
     "name": "stderr",
     "output_type": "stream",
     "text": [
      "                                                                                \r"
     ]
    }
   ],
   "source": [
    "spark.sql(\"\"\"\n",
    "SELECT pickup_date, pickup_time from comb WHERE pickup_date < '2020-12-31'\n",
    "\"\"\").show()"
   ],
   "metadata": {
    "collapsed": false
   }
  },
  {
   "cell_type": "markdown",
   "source": [
    "### $398,000 == 택시 값으로 대략 4억이 청구된 건 말이 안 된다."
   ],
   "metadata": {
    "collapsed": false
   }
  },
  {
   "cell_type": "code",
   "execution_count": 45,
   "outputs": [
    {
     "name": "stderr",
     "output_type": "stream",
     "text": [
      "[Stage 18:===================================================>    (12 + 1) / 13]\r"
     ]
    },
    {
     "name": "stdout",
     "output_type": "stream",
     "text": [
      "+-------+------------------+\n",
      "|summary|      total_amount|\n",
      "+-------+------------------+\n",
      "|  count|          15000936|\n",
      "|   mean|18.755400511168382|\n",
      "| stddev| 145.7431021908604|\n",
      "|    min|            -647.8|\n",
      "|    max|          398469.2|\n",
      "+-------+------------------+\n",
      "\n"
     ]
    },
    {
     "name": "stderr",
     "output_type": "stream",
     "text": [
      "                                                                                \r"
     ]
    }
   ],
   "source": [
    "comb_df.select('total_amount').describe().show()"
   ],
   "metadata": {
    "collapsed": false
   }
  },
  {
   "cell_type": "markdown",
   "source": [
    "### max 값이 말이 안 되는 경우. 332,541 Mile"
   ],
   "metadata": {
    "collapsed": false
   }
  },
  {
   "cell_type": "code",
   "execution_count": 46,
   "outputs": [
    {
     "name": "stderr",
     "output_type": "stream",
     "text": [
      "                                                                                \r"
     ]
    },
    {
     "name": "stdout",
     "output_type": "stream",
     "text": [
      "+-------+-----------------+\n",
      "|summary|    trip_distance|\n",
      "+-------+-----------------+\n",
      "|  count|         15000936|\n",
      "|   mean|6.628556730060037|\n",
      "| stddev|671.7240645480967|\n",
      "|    min|              0.0|\n",
      "|    max|        332541.19|\n",
      "+-------+-----------------+\n",
      "\n"
     ]
    }
   ],
   "source": [
    "comb_df.select(\"trip_distance\").describe().show()"
   ],
   "metadata": {
    "collapsed": false
   }
  },
  {
   "cell_type": "markdown",
   "source": [
    "### max 9명"
   ],
   "metadata": {
    "collapsed": false
   }
  },
  {
   "cell_type": "code",
   "execution_count": 47,
   "outputs": [
    {
     "name": "stderr",
     "output_type": "stream",
     "text": [
      "[Stage 26:===============================================>        (11 + 2) / 13]\r"
     ]
    },
    {
     "name": "stdout",
     "output_type": "stream",
     "text": [
      "+-------+------------------+\n",
      "|summary|   passenger_count|\n",
      "+-------+------------------+\n",
      "|  count|          14166908|\n",
      "|   mean|1.4253582362502812|\n",
      "| stddev|1.0443336003189245|\n",
      "|    min|               0.0|\n",
      "|    max|               9.0|\n",
      "+-------+------------------+\n",
      "\n"
     ]
    },
    {
     "name": "stderr",
     "output_type": "stream",
     "text": [
      "                                                                                \r"
     ]
    }
   ],
   "source": [
    "comb_df.select(\"passenger_count\").describe().show()"
   ],
   "metadata": {
    "collapsed": false
   }
  },
  {
   "cell_type": "markdown",
   "source": [
    "### 불필요한 데이터 확인"
   ],
   "metadata": {
    "collapsed": false
   }
  },
  {
   "cell_type": "code",
   "execution_count": 49,
   "outputs": [
    {
     "name": "stderr",
     "output_type": "stream",
     "text": [
      "[Stage 34:===============================================>        (11 + 2) / 13]\r"
     ]
    },
    {
     "name": "stdout",
     "output_type": "stream",
     "text": [
      "+-------------------+-------+\n",
      "|              month|  trips|\n",
      "+-------------------+-------+\n",
      "|2029-05-01 00:00:00|      1|\n",
      "|2021-12-01 00:00:00|      5|\n",
      "|2021-11-01 00:00:00|      5|\n",
      "|2021-10-01 00:00:00|      3|\n",
      "|2021-09-01 00:00:00|      3|\n",
      "|2021-08-01 00:00:00|     36|\n",
      "|2021-07-01 00:00:00|2821661|\n",
      "|2021-06-01 00:00:00|2834204|\n",
      "|2021-05-01 00:00:00|2507075|\n",
      "|2021-04-01 00:00:00|2171215|\n",
      "|2021-03-01 00:00:00|1925130|\n",
      "|2021-02-01 00:00:00|1371689|\n",
      "|2021-01-01 00:00:00|1369753|\n",
      "|2020-12-01 00:00:00|     16|\n",
      "|2009-01-01 00:00:00|    111|\n",
      "|2008-12-01 00:00:00|     26|\n",
      "|2004-04-01 00:00:00|      1|\n",
      "|2003-01-01 00:00:00|      1|\n",
      "|2002-12-01 00:00:00|      1|\n",
      "+-------------------+-------+\n",
      "\n"
     ]
    },
    {
     "name": "stderr",
     "output_type": "stream",
     "text": [
      "                                                                                \r"
     ]
    }
   ],
   "source": [
    "query = \"\"\"\n",
    "SELECT\n",
    " DATE_TRUNC('MM', c.pickup_date) as month,\n",
    " COUNT(*) as trips\n",
    "FROM comb c\n",
    "GROUP BY -- 몇 년 몇 월에 탔는지 월 별로 묶는다.\n",
    "    month\n",
    "ORDER BY month DESC\n",
    "\"\"\"\n",
    "\n",
    "spark.sql(query).show()"
   ],
   "metadata": {
    "collapsed": false
   }
  },
  {
   "cell_type": "markdown",
   "source": [
    "# 데이터 세척"
   ],
   "metadata": {
    "collapsed": false
   }
  },
  {
   "cell_type": "code",
   "execution_count": 56,
   "outputs": [],
   "source": [
    "query = \"\"\"\n",
    "SELECT\n",
    "*\n",
    "FROM comb c\n",
    "WHERE\n",
    "    c.total_amount < 5000\n",
    "    AND c.total_amount > 0\n",
    "    AND c.trip_distance < 100\n",
    "    AND c.passenger_count < 4\n",
    "    AND c.pickup_date >= '2021-01-01'\n",
    "    AND c.pickup_date < '2021-08-01'\n",
    "\"\"\"\n",
    "cleaned_df = spark.sql(query)\n",
    "cleaned_df.createOrReplaceTempView(\"cleaned\")"
   ],
   "metadata": {
    "collapsed": false
   }
  },
  {
   "cell_type": "code",
   "execution_count": 57,
   "outputs": [
    {
     "name": "stderr",
     "output_type": "stream",
     "text": [
      "[Stage 49:===================================================>    (12 + 1) / 13]\r"
     ]
    },
    {
     "name": "stdout",
     "output_type": "stream",
     "text": [
      "+-------+------------------+------------------+-----------------+------------------+------------------+------------------+------------------+-------------------+------------------+-------------------+--------------------+--------------------+\n",
      "|summary|         vendor_id|       pickup_time|     dropoff_time|   passenger_count|     trip_distance|       fare_amount|        tip_amount|       tolls_amount|      total_amount|       payment_type|         pickup_zone|        dropoff_zone|\n",
      "+-------+------------------+------------------+-----------------+------------------+------------------+------------------+------------------+-------------------+------------------+-------------------+--------------------+--------------------+\n",
      "|  count|          13297341|          13297341|         13297341|          13297341|          13297341|          13297341|          13297341|           13297341|          13297341|           13297341|            13297341|            13297341|\n",
      "|   mean|1.6708780349394665|14.196708575045191|14.28282308470543| 1.209083455105799|  2.83812050845351|12.161319642776009|2.1885331909596926|0.27013667694897536|18.072338205218543| 1.2470357795592366|                null|                null|\n",
      "| stddev|0.4698943644906848| 5.120949603224785|5.192125385712479|0.5416901568857359|3.6243892031351015|10.986189196369876| 2.577894950202306| 1.5421058637659315|13.263054604926198|0.45325331434527216|                null|                null|\n",
      "|    min|                 1|                 0|                0|               0.0|               0.0|              -0.8|               0.0|                0.0|              0.01|                  1|Allerton/Pelham G...|Allerton/Pelham G...|\n",
      "|    max|                 2|                23|               23|               3.0|             99.96|            4969.0|             700.0|             956.55|            4973.3|                  5|      Yorkville West|      Yorkville West|\n",
      "+-------+------------------+------------------+-----------------+------------------+------------------+------------------+------------------+-------------------+------------------+-------------------+--------------------+--------------------+\n",
      "\n"
     ]
    },
    {
     "name": "stderr",
     "output_type": "stream",
     "text": [
      "                                                                                \r"
     ]
    }
   ],
   "source": [
    "cleaned_df.describe().show()"
   ],
   "metadata": {
    "collapsed": false
   }
  },
  {
   "cell_type": "markdown",
   "source": [
    "# Visualization"
   ],
   "metadata": {
    "collapsed": false
   }
  },
  {
   "cell_type": "code",
   "execution_count": 58,
   "outputs": [],
   "source": [
    "import numpy as np\n",
    "import pandas as pd\n",
    "import seaborn as sns\n",
    "import matplotlib.pyplot as plt\n",
    "import matplotlib.dates as mdates"
   ],
   "metadata": {
    "collapsed": false
   }
  },
  {
   "cell_type": "code",
   "execution_count": 59,
   "outputs": [
    {
     "name": "stderr",
     "output_type": "stream",
     "text": [
      "                                                                                \r"
     ]
    }
   ],
   "source": [
    "query = \"\"\"\n",
    "SELECT\n",
    "    c.pickup_date,\n",
    "    COUNT(*) as trips\n",
    "FROM\n",
    "    cleaned c\n",
    "GROUP BY\n",
    "    c.pickup_date\n",
    "\n",
    "\"\"\"\n",
    "\n",
    "pd_df = spark.sql(query).toPandas()  # pandas로 변환"
   ],
   "metadata": {
    "collapsed": false
   }
  },
  {
   "cell_type": "code",
   "execution_count": 60,
   "outputs": [
    {
     "data": {
      "text/plain": "<AxesSubplot:xlabel='pickup_date', ylabel='trips'>"
     },
     "execution_count": 60,
     "metadata": {},
     "output_type": "execute_result"
    },
    {
     "data": {
      "text/plain": "<Figure size 2500x700 with 1 Axes>",
      "image/png": "[encoded data removed]"
     },
     "metadata": {},
     "output_type": "display_data"
    }
   ],
   "source": [
    "fig, ax = plt.subplots(figsize=(25, 7))\n",
    "sns.lineplot(x='pickup_date', y='trips', data=pd_df)"
   ],
   "metadata": {
    "collapsed": false
   }
  },
  {
   "cell_type": "code",
   "execution_count": 65,
   "outputs": [
    {
     "name": "stderr",
     "output_type": "stream",
     "text": [
      "                                                                                \r"
     ]
    }
   ],
   "source": [
    "query = \"\"\"\n",
    "SELECT\n",
    "    c.pickup_date,\n",
    "    DATE_FORMAT(c.pickup_date, 'EEEE') as day_of_week,\n",
    "    COUNT(*) as trips\n",
    "FROM\n",
    "    cleaned c\n",
    "GROUP BY\n",
    "    c.pickup_date,\n",
    "    day_of_week\n",
    "\n",
    "\"\"\"\n",
    "\n",
    "pd_df2 = spark.sql(query).toPandas()  # pandas로 변환"
   ],
   "metadata": {
    "collapsed": false
   }
  },
  {
   "cell_type": "code",
   "execution_count": 66,
   "outputs": [],
   "source": [
    "data = pd_df2.groupby('day_of_week').trips.median().to_frame().reset_index()\n",
    "data['sort_dow'] = data['day_of_week'].replace({\n",
    "    \"Sunday\": 0,\n",
    "    \"Monday\": 1,\n",
    "    \"Tuesday\": 2,\n",
    "    \"Wednesday\": 3,\n",
    "    \"Thursday\": 4,\n",
    "    \"Friday\": 5,\n",
    "    \"Saturday\": 6,\n",
    "})"
   ],
   "metadata": {
    "collapsed": false
   }
  },
  {
   "cell_type": "code",
   "execution_count": 67,
   "outputs": [],
   "source": [
    "data.sort_values(by='sort_dow', inplace=True)"
   ],
   "metadata": {
    "collapsed": false
   }
  },
  {
   "cell_type": "code",
   "execution_count": 69,
   "outputs": [
    {
     "data": {
      "text/plain": "<AxesSubplot:xlabel='day_of_week', ylabel='trips'>"
     },
     "execution_count": 69,
     "metadata": {},
     "output_type": "execute_result"
    },
    {
     "data": {
      "text/plain": "<Figure size 1200x500 with 1 Axes>",
      "image/png": "[encoded data removed]"
     },
     "metadata": {},
     "output_type": "display_data"
    }
   ],
   "source": [
    "fig, ax = plt.subplots(figsize=(12, 5))\n",
    "sns.barplot(\n",
    "    x='day_of_week',\n",
    "    y='trips',\n",
    "    data=data\n",
    ")"
   ],
   "metadata": {
    "collapsed": false
   }
  },
  {
   "cell_type": "code",
   "execution_count": 70,
   "outputs": [
    {
     "data": {
      "text/plain": "<function __main__.get_weekly(date)>"
     },
     "execution_count": 70,
     "metadata": {},
     "output_type": "execute_result"
    }
   ],
   "source": [
    "# udf\n",
    "\n",
    "def get_weekly(date):\n",
    "    import calendar\n",
    "    return calendar.day_name[date.weekday()]\n",
    "\n",
    "spark.udf.register('get_weekly', get_weekly)"
   ],
   "metadata": {
    "collapsed": false
   }
  },
  {
   "cell_type": "code",
   "execution_count": 71,
   "outputs": [],
   "source": [
    "query = \"\"\"\n",
    "SELECT\n",
    "    c.pickup_date,\n",
    "    get_weekday(c.pickup_date) AS day_of_week,\n",
    "    COUNT(*) AS trips\n",
    "FROM\n",
    "    cleaned c\n",
    "GROUP BY\n",
    "    c.pickup_date,\n",
    "    day_of_week\n",
    "\"\"\""
   ],
   "metadata": {
    "collapsed": false
   }
  },
  {
   "cell_type": "markdown",
   "source": [
    "### payment type에 따라 사용자 패턴이 있는지 체크"
   ],
   "metadata": {
    "collapsed": false
   }
  },
  {
   "cell_type": "code",
   "execution_count": 72,
   "outputs": [
    {
     "data": {
      "text/plain": "<function __main__.parse_payment_type(payment_type)>"
     },
     "execution_count": 72,
     "metadata": {},
     "output_type": "execute_result"
    }
   ],
   "source": [
    "payment_type_to_string = {\n",
    "    1: \"Credit Card\",\n",
    "    2: \"Cash\",\n",
    "    3: \"No Charge\",\n",
    "    4: \"Dispute\",\n",
    "    5: \"Unknown\",\n",
    "    6: \"Voided Trip\",\n",
    "}\n",
    "def parse_payment_type(payment_type):\n",
    "    return payment_type_to_string[payment_type]\n",
    "\n",
    "spark.udf.register(\"parse_payment_type\", parse_payment_type)\n"
   ],
   "metadata": {
    "collapsed": false
   }
  },
  {
   "cell_type": "code",
   "execution_count": 73,
   "outputs": [
    {
     "name": "stderr",
     "output_type": "stream",
     "text": [
      "[Stage 67:>                                                         (0 + 1) / 1]\r"
     ]
    },
    {
     "name": "stdout",
     "output_type": "stream",
     "text": [
      "+--------------------------------+--------+------------------+------------------+\n",
      "|parse_payment_type(payment_type)|   trips|  mean_fare_amount| stdev_fare_amount|\n",
      "+--------------------------------+--------+------------------+------------------+\n",
      "|                     Credit Card|10118059|12.216703494217713|10.795006823047487|\n",
      "|                       No Charge|   58554|11.930768862929945|15.037653917600062|\n",
      "|                         Dispute|   23540|12.652123194562444|14.162625766142915|\n",
      "|                            Cash| 3097187|  11.9810152050877|11.474080178274468|\n",
      "|                         Unknown|       1|              17.8|              null|\n",
      "+--------------------------------+--------+------------------+------------------+\n",
      "\n"
     ]
    },
    {
     "name": "stderr",
     "output_type": "stream",
     "text": [
      "                                                                                \r"
     ]
    }
   ],
   "source": [
    "query = \"\"\"\n",
    "SELECT\n",
    "    parse_payment_type(payment_type),\n",
    "    count(*) AS trips,\n",
    "    MEAN(fare_amount) AS mean_fare_amount,\n",
    "    STD(fare_amount) AS stdev_fare_amount\n",
    "FROM\n",
    "    cleaned\n",
    "GROUP BY\n",
    "    payment_type\n",
    "\"\"\"\n",
    "\n",
    "spark.sql(query).show()"
   ],
   "metadata": {
    "collapsed": false
   }
  },
  {
   "cell_type": "code",
   "execution_count": null,
   "outputs": [],
   "source": [],
   "metadata": {
    "collapsed": false
   }
  }
 ],
 "metadata": {
  "kernelspec": {
   "display_name": "Python 3",
   "language": "python",
   "name": "python3"
  },
  "language_info": {
   "codemirror_mode": {
    "name": "ipython",
    "version": 2
   },
   "file_extension": ".py",
   "mimetype": "text/x-python",
   "name": "python",
   "nbconvert_exporter": "python",
   "pygments_lexer": "ipython2",
   "version": "2.7.6"
  }
 },
 "nbformat": 4,
 "nbformat_minor": 0
}
