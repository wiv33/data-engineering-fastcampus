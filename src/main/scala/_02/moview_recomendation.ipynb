{
 "cells": [
  {
   "cell_type": "markdown",
   "source": [
    "# dataset download\n",
    "https://grouplens.org/datasets/movielens/25m/\n",
    "\n",
    "wget -i https://files.grouplens.org/datasets/movielens/ml-25m.zip -P /Users/auto/github/spark/data/ml-25m"
   ],
   "metadata": {
    "collapsed": false
   }
  },
  {
   "cell_type": "code",
   "execution_count": 1,
   "metadata": {
    "collapsed": true
   },
   "outputs": [],
   "source": [
    "from pyspark.sql import SparkSession"
   ]
  },
  {
   "cell_type": "code",
   "execution_count": 2,
   "outputs": [
    {
     "name": "stdout",
     "output_type": "stream",
     "text": [
      "22/12/26 01:22:44 WARN Utils: Your hostname, PSui-MacBookPro.local resolves to a loopback address: 127.0.0.1; using 192.168.0.7 instead (on interface en0)\n",
      "22/12/26 01:22:44 WARN Utils: Set SPARK_LOCAL_IP if you need to bind to another address\n"
     ]
    },
    {
     "name": "stderr",
     "output_type": "stream",
     "text": [
      "Setting default log level to \"WARN\".\n",
      "To adjust logging level use sc.setLogLevel(newLevel). For SparkR, use setLogLevel(newLevel).\n"
     ]
    },
    {
     "name": "stdout",
     "output_type": "stream",
     "text": [
      "22/12/26 01:22:44 WARN NativeCodeLoader: Unable to load native-hadoop library for your platform... using builtin-java classes where applicable\n",
      "22/12/26 01:22:44 WARN Utils: Service 'SparkUI' could not bind on port 4040. Attempting port 4041.\n",
      "22/12/26 01:22:44 WARN Utils: Service 'SparkUI' could not bind on port 4041. Attempting port 4042.\n",
      "22/12/26 01:22:44 WARN Utils: Service 'SparkUI' could not bind on port 4042. Attempting port 4043.\n",
      "22/12/26 01:22:44 WARN Utils: Service 'SparkUI' could not bind on port 4043. Attempting port 4044.\n"
     ]
    }
   ],
   "source": [
    "MAX_MEMORY = \"20g\"\n",
    "spark = SparkSession.builder.appName(\"movie-recommendation\")\\\n",
    "    .config(\"spark.executor.memory\", MAX_MEMORY)\\\n",
    "    .config(\"spark.driver.memory\", MAX_MEMORY)\\\n",
    "    .getOrCreate()"
   ],
   "metadata": {
    "collapsed": false
   }
  },
  {
   "cell_type": "markdown",
   "source": [
    "# out of memory 발생\n",
    "22/12/26 01:16:05 ERROR Executor: Exception in task 1.0 in stage 9.0 (TID 45)\n",
    "java.lang.OutOfMemoryError: Java heap space"
   ],
   "metadata": {
    "collapsed": false
   }
  },
  {
   "cell_type": "code",
   "execution_count": 3,
   "outputs": [],
   "source": [
    "# spark = SparkSession.builder.appName(\"movie-recommendation\").getOrCreate()"
   ],
   "metadata": {
    "collapsed": false
   }
  },
  {
   "cell_type": "code",
   "execution_count": 4,
   "outputs": [
    {
     "name": "stderr",
     "output_type": "stream",
     "text": [
      "                                                                                \r"
     ]
    }
   ],
   "source": [
    "ratings_file = '../../../../data/ml-25m/ratings.csv'\n",
    "ratings_df = spark.read.csv(f\"{ratings_file}\", inferSchema=True, header=True)"
   ],
   "metadata": {
    "collapsed": false
   }
  },
  {
   "cell_type": "code",
   "execution_count": 5,
   "outputs": [
    {
     "name": "stdout",
     "output_type": "stream",
     "text": [
      "+------+-------+------+----------+\n",
      "|userId|movieId|rating| timestamp|\n",
      "+------+-------+------+----------+\n",
      "|     1|    296|   5.0|1147880044|\n",
      "|     1|    306|   3.5|1147868817|\n",
      "|     1|    307|   5.0|1147868828|\n",
      "|     1|    665|   5.0|1147878820|\n",
      "|     1|    899|   3.5|1147868510|\n",
      "|     1|   1088|   4.0|1147868495|\n",
      "|     1|   1175|   3.5|1147868826|\n",
      "|     1|   1217|   3.5|1147878326|\n",
      "|     1|   1237|   5.0|1147868839|\n",
      "|     1|   1250|   4.0|1147868414|\n",
      "|     1|   1260|   3.5|1147877857|\n",
      "|     1|   1653|   4.0|1147868097|\n",
      "|     1|   2011|   2.5|1147868079|\n",
      "|     1|   2012|   2.5|1147868068|\n",
      "|     1|   2068|   2.5|1147869044|\n",
      "|     1|   2161|   3.5|1147868609|\n",
      "|     1|   2351|   4.5|1147877957|\n",
      "|     1|   2573|   4.0|1147878923|\n",
      "|     1|   2632|   5.0|1147878248|\n",
      "|     1|   2692|   5.0|1147869100|\n",
      "+------+-------+------+----------+\n",
      "only showing top 20 rows\n",
      "\n"
     ]
    }
   ],
   "source": [
    "ratings_df.show()"
   ],
   "metadata": {
    "collapsed": false
   }
  },
  {
   "cell_type": "code",
   "execution_count": 6,
   "outputs": [],
   "source": [
    "ratings_df = ratings_df.select([\"userId\", \"movieId\", \"rating\"])"
   ],
   "metadata": {
    "collapsed": false
   }
  },
  {
   "cell_type": "code",
   "execution_count": 7,
   "outputs": [
    {
     "name": "stdout",
     "output_type": "stream",
     "text": [
      "root\n",
      " |-- userId: integer (nullable = true)\n",
      " |-- movieId: integer (nullable = true)\n",
      " |-- rating: double (nullable = true)\n",
      "\n"
     ]
    }
   ],
   "source": [
    "ratings_df.printSchema()"
   ],
   "metadata": {
    "collapsed": false
   }
  },
  {
   "cell_type": "code",
   "execution_count": 8,
   "outputs": [
    {
     "name": "stderr",
     "output_type": "stream",
     "text": [
      "                                                                                \r"
     ]
    },
    {
     "name": "stdout",
     "output_type": "stream",
     "text": [
      "+-------+------------------+\n",
      "|summary|            rating|\n",
      "+-------+------------------+\n",
      "|  count|          25000095|\n",
      "|   mean| 3.533854451353085|\n",
      "| stddev|1.0607439611423666|\n",
      "|    min|               0.5|\n",
      "|    max|               5.0|\n",
      "+-------+------------------+\n",
      "\n"
     ]
    }
   ],
   "source": [
    "ratings_df.select(ratings_df.rating).describe().show()"
   ],
   "metadata": {
    "collapsed": false
   }
  },
  {
   "cell_type": "code",
   "execution_count": 9,
   "outputs": [],
   "source": [
    "train_df, test_df = ratings_df.randomSplit([0.8, 0.2])"
   ],
   "metadata": {
    "collapsed": false
   }
  },
  {
   "cell_type": "code",
   "execution_count": 10,
   "outputs": [],
   "source": [
    "from pyspark.ml.recommendation import ALS\n",
    "# maxIter 최고 반복 횟수\n",
    "# regParam = default 1.0,\n",
    "als = ALS(maxIter=5,\n",
    "          regParam=0.1,    # regularization default 1.0\n",
    "          userCol=\"userId\",\n",
    "          itemCol=\"movieId\",\n",
    "          ratingCol='rating',\n",
    "          coldStartStrategy='drop'  # 학습하지 못한 데이터를 만났을 때 어떻게 대처할 것인지 개발자가 설정하는 것\n",
    "          )"
   ],
   "metadata": {
    "collapsed": false
   }
  },
  {
   "cell_type": "code",
   "execution_count": 11,
   "outputs": [
    {
     "name": "stderr",
     "output_type": "stream",
     "text": [
      "                                                                                \r"
     ]
    },
    {
     "name": "stdout",
     "output_type": "stream",
     "text": [
      "22/12/26 01:23:04 WARN InstanceBuilder$NativeBLAS: Failed to load implementation from:dev.ludovic.netlib.blas.JNIBLAS\n",
      "22/12/26 01:23:04 WARN InstanceBuilder$NativeBLAS: Failed to load implementation from:dev.ludovic.netlib.blas.ForeignLinkerBLAS\n",
      "22/12/26 01:23:04 WARN InstanceBuilder$JavaBLAS: Failed to load implementation from:dev.ludovic.netlib.blas.VectorBLAS\n",
      "22/12/26 01:23:05 WARN InstanceBuilder$NativeLAPACK: Failed to load implementation from:dev.ludovic.netlib.lapack.JNILAPACK\n"
     ]
    }
   ],
   "source": [
    "model = als.fit(train_df)"
   ],
   "metadata": {
    "collapsed": false
   }
  },
  {
   "cell_type": "code",
   "execution_count": 12,
   "outputs": [],
   "source": [
    "predictions = model.transform(test_df)"
   ],
   "metadata": {
    "collapsed": false
   }
  },
  {
   "cell_type": "code",
   "execution_count": 13,
   "outputs": [
    {
     "name": "stderr",
     "output_type": "stream",
     "text": [
      "                                                                                \r"
     ]
    },
    {
     "name": "stdout",
     "output_type": "stream",
     "text": [
      "+------+-------+------+----------+\n",
      "|userId|movieId|rating|prediction|\n",
      "+------+-------+------+----------+\n",
      "|   101|   8638|   5.0|  3.563535|\n",
      "|   243|   1580|   3.0| 2.6667275|\n",
      "|   296|   1580|   3.0| 2.7252097|\n",
      "|   322|   1645|   4.0| 3.6049063|\n",
      "|   368|   3175|   5.0|    3.6444|\n",
      "|   497|   2366|   4.0| 3.7677696|\n",
      "|   513|  44022|   5.0|  4.288964|\n",
      "|   596|   1580|   3.0| 3.5645356|\n",
      "|   597|   1088|   3.0| 3.3457541|\n",
      "|   597|   3997|   1.0| 1.9579154|\n",
      "|   613|   1645|   4.0| 3.6142502|\n",
      "|   756|   3175|   2.5| 3.2250512|\n",
      "|   756|  44022|   3.5| 3.0737169|\n",
      "|   830|   1580|   5.0| 3.5827847|\n",
      "|   830|   1591|   2.0|   2.82837|\n",
      "|   847|    471|   5.0| 3.4477873|\n",
      "|   847|   1959|   2.0| 3.2866914|\n",
      "|   847|   4818|   0.5| 1.2071182|\n",
      "|   847|   6357|   3.5| 3.3180442|\n",
      "|   847| 180981|   3.5| 3.3255274|\n",
      "+------+-------+------+----------+\n",
      "only showing top 20 rows\n",
      "\n"
     ]
    }
   ],
   "source": [
    "predictions.show()"
   ],
   "metadata": {
    "collapsed": false
   }
  },
  {
   "cell_type": "code",
   "execution_count": 14,
   "outputs": [
    {
     "name": "stderr",
     "output_type": "stream",
     "text": [
      "[Stage 124:>                                                      (0 + 10) / 11]\r"
     ]
    },
    {
     "name": "stdout",
     "output_type": "stream",
     "text": [
      "+-------+-----------------+------------------+\n",
      "|summary|           rating|        prediction|\n",
      "+-------+-----------------+------------------+\n",
      "|  count|          4996988|           4996988|\n",
      "|   mean|3.534111048495614| 3.425122786307677|\n",
      "| stddev|1.060547437977407|0.6463546760818288|\n",
      "|    min|              0.5|        -2.1740968|\n",
      "|    max|              5.0|          6.361507|\n",
      "+-------+-----------------+------------------+\n",
      "\n"
     ]
    },
    {
     "name": "stderr",
     "output_type": "stream",
     "text": [
      "                                                                                \r"
     ]
    }
   ],
   "source": [
    "predictions.select('rating', 'prediction').describe().show()"
   ],
   "metadata": {
    "collapsed": false
   }
  },
  {
   "cell_type": "code",
   "execution_count": 15,
   "outputs": [],
   "source": [
    "# evaluation\n",
    "from pyspark.ml.evaluation import RegressionEvaluator\n",
    "\n",
    "evaluator = RegressionEvaluator(metricName='rmse',\n",
    "                                labelCol='rating',\n",
    "                                predictionCol='prediction')"
   ],
   "metadata": {
    "collapsed": false
   }
  },
  {
   "cell_type": "code",
   "execution_count": 16,
   "outputs": [
    {
     "name": "stderr",
     "output_type": "stream",
     "text": [
      "                                                                                \r"
     ]
    }
   ],
   "source": [
    "rmse = evaluator.evaluate(predictions)"
   ],
   "metadata": {
    "collapsed": false
   }
  },
  {
   "cell_type": "code",
   "execution_count": 17,
   "outputs": [
    {
     "name": "stdout",
     "output_type": "stream",
     "text": [
      "0.8086567324436121\n"
     ]
    }
   ],
   "source": [
    "print(rmse)"
   ],
   "metadata": {
    "collapsed": false
   }
  },
  {
   "cell_type": "markdown",
   "source": [
    "### user마다 recommendation 추출"
   ],
   "metadata": {
    "collapsed": false
   }
  },
  {
   "cell_type": "code",
   "execution_count": 18,
   "outputs": [
    {
     "name": "stderr",
     "output_type": "stream",
     "text": [
      "[Stage 195:====================================================> (97 + 3) / 100]\r"
     ]
    },
    {
     "name": "stdout",
     "output_type": "stream",
     "text": [
      "+------+--------------------+\n",
      "|userId|     recommendations|\n",
      "+------+--------------------+\n",
      "|    26|[{203086, 5.48622...|\n",
      "|    27|[{203086, 5.91870...|\n",
      "|    28|[{151989, 7.44217...|\n",
      "|    31|[{201821, 3.89801...|\n",
      "|    34|[{194434, 5.90089...|\n",
      "|    53|[{203882, 6.49384...|\n",
      "|    65|[{144202, 6.55153...|\n",
      "|    76|[{194434, 6.05897...|\n",
      "|    78|[{203882, 6.71608...|\n",
      "|    81|[{189161, 4.49030...|\n",
      "|    85|[{128667, 6.30716...|\n",
      "|   101|[{203086, 5.15773...|\n",
      "|   108|[{203086, 5.41597...|\n",
      "|   115|[{203086, 6.55031...|\n",
      "|   126|[{203086, 6.45011...|\n",
      "|   133|[{151989, 5.33744...|\n",
      "|   137|[{203086, 5.66314...|\n",
      "|   148|[{203086, 5.69119...|\n",
      "|   155|[{194434, 6.07723...|\n",
      "|   183|[{151989, 6.18763...|\n",
      "+------+--------------------+\n",
      "only showing top 20 rows\n",
      "\n"
     ]
    },
    {
     "name": "stderr",
     "output_type": "stream",
     "text": [
      "                                                                                \r"
     ]
    }
   ],
   "source": [
    "model.recommendForAllUsers(3).show()"
   ],
   "metadata": {
    "collapsed": false
   }
  },
  {
   "cell_type": "code",
   "execution_count": 19,
   "outputs": [
    {
     "name": "stderr",
     "output_type": "stream",
     "text": [
      "[Stage 224:====================================================> (98 + 2) / 100]\r"
     ]
    },
    {
     "name": "stdout",
     "output_type": "stream",
     "text": [
      "+-------+--------------------+\n",
      "|movieId|     recommendations|\n",
      "+-------+--------------------+\n",
      "|     26|[{105130, 5.02717...|\n",
      "|     27|[{87426, 5.49956}...|\n",
      "|     28|[{105801, 5.42771...|\n",
      "|     31|[{87426, 5.360557...|\n",
      "|     34|[{58248, 5.467169...|\n",
      "|     53|[{20126, 5.196907...|\n",
      "|     65|[{87426, 5.184136...|\n",
      "|     76|[{87426, 5.262904...|\n",
      "|     78|[{142811, 4.72128...|\n",
      "|     81|[{156318, 4.78692...|\n",
      "|     85|[{84907, 4.866537...|\n",
      "|    101|[{56026, 4.933163...|\n",
      "|    108|[{31506, 5.562128...|\n",
      "|    115|[{105801, 5.62139...|\n",
      "|    126|[{87426, 5.010902...|\n",
      "|    133|[{80084, 4.378054...|\n",
      "|    137|[{100653, 4.98371...|\n",
      "|    148|[{142811, 4.21368...|\n",
      "|    155|[{10417, 5.097225...|\n",
      "|    183|[{10417, 4.993128...|\n",
      "+-------+--------------------+\n",
      "only showing top 20 rows\n",
      "\n"
     ]
    },
    {
     "name": "stderr",
     "output_type": "stream",
     "text": [
      "                                                                                \r"
     ]
    }
   ],
   "source": [
    "model.recommendForAllItems(3).show()"
   ],
   "metadata": {
    "collapsed": false
   }
  },
  {
   "cell_type": "markdown",
   "source": [
    "# 특정 유저에 대해서 recommendation 생성"
   ],
   "metadata": {
    "collapsed": false
   }
  },
  {
   "cell_type": "code",
   "execution_count": 20,
   "outputs": [
    {
     "name": "stderr",
     "output_type": "stream",
     "text": [
      "[Stage 240:>                                                        (0 + 1) / 1]\r"
     ]
    },
    {
     "name": "stdout",
     "output_type": "stream",
     "text": [
      "+------+\n",
      "|userId|\n",
      "+------+\n",
      "|   133|\n",
      "|    81|\n",
      "|   101|\n",
      "+------+\n",
      "\n"
     ]
    },
    {
     "name": "stderr",
     "output_type": "stream",
     "text": [
      "                                                                                \r"
     ]
    }
   ],
   "source": [
    "from pyspark.sql.types import IntegerType\n",
    "\n",
    "user_list = [133, 81, 101]\n",
    "\n",
    "users_df = spark.createDataFrame(user_list, IntegerType()).toDF('userId')\n",
    "users_df.show()"
   ],
   "metadata": {
    "collapsed": false
   }
  },
  {
   "cell_type": "code",
   "execution_count": 27,
   "outputs": [
    {
     "name": "stderr",
     "output_type": "stream",
     "text": [
      "[Stage 369:================================================> (1924 + 11) / 2000]\r"
     ]
    },
    {
     "name": "stdout",
     "output_type": "stream",
     "text": [
      "+------+--------------------+\n",
      "|userId|     recommendations|\n",
      "+------+--------------------+\n",
      "|   133|[{151989, 5.33744...|\n",
      "|   101|[{203086, 5.15773...|\n",
      "|    81|[{189161, 4.49030...|\n",
      "+------+--------------------+\n",
      "\n"
     ]
    },
    {
     "name": "stderr",
     "output_type": "stream",
     "text": [
      "                                                                                \r"
     ]
    }
   ],
   "source": [
    "user_recs = model.recommendForUserSubset(users_df, 5)\n",
    "user_recs.show()"
   ],
   "metadata": {
    "collapsed": false
   }
  },
  {
   "cell_type": "code",
   "execution_count": 28,
   "outputs": [
    {
     "name": "stderr",
     "output_type": "stream",
     "text": [
      "                                                                                \r"
     ]
    }
   ],
   "source": [
    "movies_list = user_recs.collect()[0].recommendations"
   ],
   "metadata": {
    "collapsed": false
   }
  },
  {
   "cell_type": "code",
   "execution_count": 32,
   "outputs": [
    {
     "name": "stdout",
     "output_type": "stream",
     "text": [
      "+-------+------------------+\n",
      "|movieId|            rating|\n",
      "+-------+------------------+\n",
      "| 151989| 5.337449550628662|\n",
      "| 201821|5.2547502517700195|\n",
      "| 203882| 5.252063274383545|\n",
      "| 183947| 5.246218204498291|\n",
      "| 194434| 5.164909839630127|\n",
      "+-------+------------------+\n",
      "\n"
     ]
    }
   ],
   "source": [
    "recs_df = spark.createDataFrame(movies_list)\n",
    "recs_df.show()"
   ],
   "metadata": {
    "collapsed": false
   }
  },
  {
   "cell_type": "markdown",
   "source": [
    "# file 이름 가져오기\n"
   ],
   "metadata": {
    "collapsed": false
   }
  },
  {
   "cell_type": "code",
   "execution_count": 33,
   "outputs": [],
   "source": [
    "movies_file = '../../../../data/ml-25m/movies.csv'\n",
    "movies_df = spark.read.csv(f\"{movies_file}\", inferSchema=True, header=True)"
   ],
   "metadata": {
    "collapsed": false
   }
  },
  {
   "cell_type": "code",
   "execution_count": 34,
   "outputs": [
    {
     "name": "stdout",
     "output_type": "stream",
     "text": [
      "+-------+--------------------+--------------------+\n",
      "|movieId|               title|              genres|\n",
      "+-------+--------------------+--------------------+\n",
      "|      1|    Toy Story (1995)|Adventure|Animati...|\n",
      "|      2|      Jumanji (1995)|Adventure|Childre...|\n",
      "|      3|Grumpier Old Men ...|      Comedy|Romance|\n",
      "|      4|Waiting to Exhale...|Comedy|Drama|Romance|\n",
      "|      5|Father of the Bri...|              Comedy|\n",
      "|      6|         Heat (1995)|Action|Crime|Thri...|\n",
      "|      7|      Sabrina (1995)|      Comedy|Romance|\n",
      "|      8| Tom and Huck (1995)|  Adventure|Children|\n",
      "|      9| Sudden Death (1995)|              Action|\n",
      "|     10|    GoldenEye (1995)|Action|Adventure|...|\n",
      "|     11|American Presiden...|Comedy|Drama|Romance|\n",
      "|     12|Dracula: Dead and...|       Comedy|Horror|\n",
      "|     13|        Balto (1995)|Adventure|Animati...|\n",
      "|     14|        Nixon (1995)|               Drama|\n",
      "|     15|Cutthroat Island ...|Action|Adventure|...|\n",
      "|     16|       Casino (1995)|         Crime|Drama|\n",
      "|     17|Sense and Sensibi...|       Drama|Romance|\n",
      "|     18|   Four Rooms (1995)|              Comedy|\n",
      "|     19|Ace Ventura: When...|              Comedy|\n",
      "|     20|  Money Train (1995)|Action|Comedy|Cri...|\n",
      "+-------+--------------------+--------------------+\n",
      "only showing top 20 rows\n",
      "\n"
     ]
    }
   ],
   "source": [
    "movies_df.show()"
   ],
   "metadata": {
    "collapsed": false
   }
  },
  {
   "cell_type": "code",
   "execution_count": 35,
   "outputs": [],
   "source": [
    "recs_df.createOrReplaceTempView(\"recommendations\")\n",
    "movies_df.createOrReplaceTempView('movies')"
   ],
   "metadata": {
    "collapsed": false
   }
  },
  {
   "cell_type": "code",
   "execution_count": 38,
   "outputs": [
    {
     "name": "stdout",
     "output_type": "stream",
     "text": [
      "+-------+--------------------+------------------+-------+------------------+\n",
      "|movieId|               title|            genres|movieId|            rating|\n",
      "+-------+--------------------+------------------+-------+------------------+\n",
      "| 151989|    The Thorn (1971)|            Comedy| 151989| 5.337449550628662|\n",
      "| 201821| Civilisation (1969)|(no genres listed)| 201821|5.2547502517700195|\n",
      "| 203882|Dead in the Water...|            Horror| 203882| 5.252063274383545|\n",
      "| 183947|NOFX Backstage Pa...|(no genres listed)| 183947| 5.246218204498291|\n",
      "| 194434|   Adrenaline (1990)|(no genres listed)| 194434| 5.164909839630127|\n",
      "+-------+--------------------+------------------+-------+------------------+\n",
      "\n"
     ]
    }
   ],
   "source": [
    "query = \"\"\"\n",
    "SELECT *\n",
    "FROM\n",
    "    movies JOIN recommendations ON recommendations.movieId = movies.movieId\n",
    "ORDER BY\n",
    "    rating DESC\n",
    "\"\"\"\n",
    "recommended_movies = spark.sql(query)\n",
    "recommended_movies.show()"
   ],
   "metadata": {
    "collapsed": false
   }
  },
  {
   "cell_type": "markdown",
   "source": [
    "# API 형태 delivery 가능한 함수"
   ],
   "metadata": {
    "collapsed": false
   }
  },
  {
   "cell_type": "code",
   "execution_count": 46,
   "outputs": [],
   "source": [
    "def get_recommendations(user_id, num_recs):\n",
    "    inner_query = \"\"\"\n",
    "        SELECT *\n",
    "        FROM\n",
    "            movies JOIN recommendations ON recommendations.movieId = movies.movieId\n",
    "        ORDER BY\n",
    "            rating DESC\n",
    "    \"\"\"\n",
    "\n",
    "    inner_users_df = spark.createDataFrame([user_id], IntegerType()).toDF(\"userId\")\n",
    "    inner_user_recs_df = model.recommendForUserSubset(inner_users_df, num_recs)\n",
    "\n",
    "    recs_list = inner_user_recs_df.collect()[0].recommendations\n",
    "    inner_recs_df = spark.createDataFrame(recs_list)\n",
    "\n",
    "    inner_recs_df.createOrReplaceTempView(\"recommendations\")\n",
    "    movies_df.createOrReplaceTempView('movies')\n",
    "\n",
    "    inner_recommended_movies = spark.sql(inner_query)\n",
    "    return inner_recommended_movies\n"
   ],
   "metadata": {
    "collapsed": false
   }
  },
  {
   "cell_type": "code",
   "execution_count": 47,
   "outputs": [
    {
     "name": "stderr",
     "output_type": "stream",
     "text": [
      "                                                                                \r"
     ]
    }
   ],
   "source": [
    "# 456 아이디의 유저, 10개의 추천을 해라.\n",
    "recs = get_recommendations(456, 10)"
   ],
   "metadata": {
    "collapsed": false
   }
  },
  {
   "cell_type": "code",
   "execution_count": 48,
   "outputs": [
    {
     "data": {
      "text/plain": "   movieId                                              title  \\\n0   203086                           Truth and Justice (2019)   \n1   203882                           Dead in the Water (2006)   \n2   194434                                  Adrenaline (1990)   \n3   157791        .hack Liminality In the Case of Kyoko Tohno   \n4   157789        .hack Liminality In the Case of Yuki Aihara   \n5   166812  Seeing Red: Stories of American Communists (1983)   \n6   151989                                   The Thorn (1971)   \n7   184723                             Little Boy Blue (2017)   \n8   120821                             The War at Home (1979)   \n9   206943                                      Cássia (2015)   \n\n               genres  movieId    rating  \n0               Drama   203086  6.712993  \n1              Horror   203882  6.265034  \n2  (no genres listed)   194434  6.242795  \n3  (no genres listed)   157791  6.235188  \n4  (no genres listed)   157789  6.235188  \n5  (no genres listed)   166812  6.193880  \n6              Comedy   151989  6.083502  \n7         Crime|Drama   184723  6.077363  \n8     Documentary|War   120821  6.062615  \n9         Documentary   206943  6.055067  ",
      "text/html": "<div>\n<style scoped>\n    .dataframe tbody tr th:only-of-type {\n        vertical-align: middle;\n    }\n\n    .dataframe tbody tr th {\n        vertical-align: top;\n    }\n\n    .dataframe thead th {\n        text-align: right;\n    }\n</style>\n<table border=\"1\" class=\"dataframe\">\n  <thead>\n    <tr style=\"text-align: right;\">\n      <th></th>\n      <th>movieId</th>\n      <th>title</th>\n      <th>genres</th>\n      <th>movieId</th>\n      <th>rating</th>\n    </tr>\n  </thead>\n  <tbody>\n    <tr>\n      <th>0</th>\n      <td>203086</td>\n      <td>Truth and Justice (2019)</td>\n      <td>Drama</td>\n      <td>203086</td>\n      <td>6.712993</td>\n    </tr>\n    <tr>\n      <th>1</th>\n      <td>203882</td>\n      <td>Dead in the Water (2006)</td>\n      <td>Horror</td>\n      <td>203882</td>\n      <td>6.265034</td>\n    </tr>\n    <tr>\n      <th>2</th>\n      <td>194434</td>\n      <td>Adrenaline (1990)</td>\n      <td>(no genres listed)</td>\n      <td>194434</td>\n      <td>6.242795</td>\n    </tr>\n    <tr>\n      <th>3</th>\n      <td>157791</td>\n      <td>.hack Liminality In the Case of Kyoko Tohno</td>\n      <td>(no genres listed)</td>\n      <td>157791</td>\n      <td>6.235188</td>\n    </tr>\n    <tr>\n      <th>4</th>\n      <td>157789</td>\n      <td>.hack Liminality In the Case of Yuki Aihara</td>\n      <td>(no genres listed)</td>\n      <td>157789</td>\n      <td>6.235188</td>\n    </tr>\n    <tr>\n      <th>5</th>\n      <td>166812</td>\n      <td>Seeing Red: Stories of American Communists (1983)</td>\n      <td>(no genres listed)</td>\n      <td>166812</td>\n      <td>6.193880</td>\n    </tr>\n    <tr>\n      <th>6</th>\n      <td>151989</td>\n      <td>The Thorn (1971)</td>\n      <td>Comedy</td>\n      <td>151989</td>\n      <td>6.083502</td>\n    </tr>\n    <tr>\n      <th>7</th>\n      <td>184723</td>\n      <td>Little Boy Blue (2017)</td>\n      <td>Crime|Drama</td>\n      <td>184723</td>\n      <td>6.077363</td>\n    </tr>\n    <tr>\n      <th>8</th>\n      <td>120821</td>\n      <td>The War at Home (1979)</td>\n      <td>Documentary|War</td>\n      <td>120821</td>\n      <td>6.062615</td>\n    </tr>\n    <tr>\n      <th>9</th>\n      <td>206943</td>\n      <td>Cássia (2015)</td>\n      <td>Documentary</td>\n      <td>206943</td>\n      <td>6.055067</td>\n    </tr>\n  </tbody>\n</table>\n</div>"
     },
     "execution_count": 48,
     "metadata": {},
     "output_type": "execute_result"
    }
   ],
   "source": [
    "recs.toPandas()"
   ],
   "metadata": {
    "collapsed": false
   }
  },
  {
   "cell_type": "code",
   "execution_count": 49,
   "outputs": [],
   "source": [
    "spark.stop()"
   ],
   "metadata": {
    "collapsed": false
   }
  }
 ],
 "metadata": {
  "kernelspec": {
   "display_name": "Python 3",
   "language": "python",
   "name": "python3"
  },
  "language_info": {
   "codemirror_mode": {
    "name": "ipython",
    "version": 2
   },
   "file_extension": ".py",
   "mimetype": "text/x-python",
   "name": "python",
   "nbconvert_exporter": "python",
   "pygments_lexer": "ipython2",
   "version": "2.7.6"
  }
 },
 "nbformat": 4,
 "nbformat_minor": 0
}
