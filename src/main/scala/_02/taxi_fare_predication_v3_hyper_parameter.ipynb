{
 "cells": [
  {
   "cell_type": "code",
   "execution_count": 1,
   "metadata": {
    "collapsed": true
   },
   "outputs": [],
   "source": [
    "from pyspark.sql import SparkSession"
   ]
  },
  {
   "cell_type": "code",
   "execution_count": 2,
   "outputs": [
    {
     "name": "stdout",
     "output_type": "stream",
     "text": [
      "22/12/26 02:53:34 WARN Utils: Your hostname, PSui-MacBookPro.local resolves to a loopback address: 127.0.0.1; using 192.168.0.7 instead (on interface en0)\n",
      "22/12/26 02:53:34 WARN Utils: Set SPARK_LOCAL_IP if you need to bind to another address\n"
     ]
    },
    {
     "name": "stderr",
     "output_type": "stream",
     "text": [
      "Setting default log level to \"WARN\".\n",
      "To adjust logging level use sc.setLogLevel(newLevel). For SparkR, use setLogLevel(newLevel).\n"
     ]
    },
    {
     "name": "stdout",
     "output_type": "stream",
     "text": [
      "22/12/26 02:53:34 WARN NativeCodeLoader: Unable to load native-hadoop library for your platform... using builtin-java classes where applicable\n",
      "22/12/26 02:53:34 WARN Utils: Service 'SparkUI' could not bind on port 4040. Attempting port 4041.\n"
     ]
    }
   ],
   "source": [
    "MAX_MEMORY = '25g'\n",
    "\n",
    "spark = SparkSession.builder.appName('taxi-fare-predication') \\\n",
    "    .config(\"spark.excutor.memory\", MAX_MEMORY) \\\n",
    "    .config(\"spark.driver.memory\", MAX_MEMORY) \\\n",
    "    .getOrCreate()"
   ],
   "metadata": {
    "collapsed": false
   }
  },
  {
   "cell_type": "code",
   "execution_count": 3,
   "outputs": [],
   "source": [
    "data_directory = '../../../../data'"
   ],
   "metadata": {
    "collapsed": false
   }
  },
  {
   "cell_type": "code",
   "execution_count": 4,
   "outputs": [
    {
     "name": "stderr",
     "output_type": "stream",
     "text": [
      "                                                                                \r"
     ]
    }
   ],
   "source": [
    "train_df = spark.read.parquet(f'{data_directory}/train/')\n",
    "test_df = spark.read.parquet(f'{data_directory}/test/')"
   ],
   "metadata": {
    "collapsed": false
   }
  },
  {
   "cell_type": "code",
   "execution_count": 6,
   "outputs": [
    {
     "name": "stdout",
     "output_type": "stream",
     "text": [
      "root\n",
      " |-- passenger_count: double (nullable = true)\n",
      " |-- pickup_location_id: integer (nullable = true)\n",
      " |-- dropoff_location_id: integer (nullable = true)\n",
      " |-- trip_distance: double (nullable = true)\n",
      " |-- pickup_time: integer (nullable = true)\n",
      " |-- day_of_week: string (nullable = true)\n",
      " |-- total_amount: double (nullable = true)\n",
      "\n"
     ]
    }
   ],
   "source": [
    "toy_df = train_df.sample(False, 0.1, seed=1)\n",
    "toy_df.printSchema()"
   ],
   "metadata": {
    "collapsed": false
   }
  },
  {
   "cell_type": "markdown",
   "source": [],
   "metadata": {
    "collapsed": false
   }
  },
  {
   "cell_type": "code",
   "execution_count": 7,
   "outputs": [],
   "source": [
    "from pyspark.ml.feature import OneHotEncoder, StringIndexer\n",
    "\n",
    "cat_feats = [\n",
    "    'pickup_location_id',\n",
    "    'dropoff_location_id',\n",
    "    'day_of_week',\n",
    "]\n",
    "\n",
    "stages = []\n",
    "\n",
    "for c in cat_feats:\n",
    "    cat_indexer = StringIndexer(inputCol=c, outputCol=c + '_idx').setHandleInvalid('keep')\n",
    "    onehot_encoder = OneHotEncoder(inputCols=[cat_indexer.getOutputCol()], outputCols=[c + '_onehot'])\n",
    "    stages += (cat_indexer, onehot_encoder)"
   ],
   "metadata": {
    "collapsed": false
   }
  },
  {
   "cell_type": "code",
   "execution_count": 8,
   "outputs": [
    {
     "data": {
      "text/plain": "[StringIndexer_88972bb9c2e6,\n OneHotEncoder_4387a7a8bc9a,\n StringIndexer_71bb39a7efc2,\n OneHotEncoder_3a856e4c5a96,\n StringIndexer_2c633fc2f52c,\n OneHotEncoder_d048548160b0]"
     },
     "execution_count": 8,
     "metadata": {},
     "output_type": "execute_result"
    }
   ],
   "source": [
    "stages"
   ],
   "metadata": {
    "collapsed": false
   }
  },
  {
   "cell_type": "markdown",
   "source": [
    "- StringIndexer + OneHotEncoder 하나씩 세트가 됨."
   ],
   "metadata": {
    "collapsed": false
   }
  },
  {
   "cell_type": "code",
   "execution_count": 9,
   "outputs": [],
   "source": [
    "from pyspark.ml.feature import VectorAssembler, StandardScaler\n",
    "\n",
    "# 숫자이고, 감소 또는 증가의 의미가 있는 값들\n",
    "num_feats = [\n",
    "    'passenger_count',\n",
    "    'trip_distance',\n",
    "    'pickup_time'\n",
    "]\n",
    "\n",
    "for n in num_feats:\n",
    "    num_assembler = VectorAssembler(inputCols=[n], outputCol=n + '_vector')\n",
    "    num_scaler = StandardScaler(inputCol=num_assembler.getOutputCol(), outputCol=n + \"_scaled\")\n",
    "    stages += [num_assembler, num_scaler]"
   ],
   "metadata": {
    "collapsed": false
   }
  },
  {
   "cell_type": "code",
   "execution_count": 10,
   "outputs": [
    {
     "data": {
      "text/plain": "[StringIndexer_88972bb9c2e6,\n OneHotEncoder_4387a7a8bc9a,\n StringIndexer_71bb39a7efc2,\n OneHotEncoder_3a856e4c5a96,\n StringIndexer_2c633fc2f52c,\n OneHotEncoder_d048548160b0,\n VectorAssembler_6b2d438f8f42,\n StandardScaler_69a33ba6ef5f,\n VectorAssembler_3e5c82a96657,\n StandardScaler_40ee98f28591,\n VectorAssembler_289438ca26f9,\n StandardScaler_a819fca2b600]"
     },
     "execution_count": 10,
     "metadata": {},
     "output_type": "execute_result"
    }
   ],
   "source": [
    "stages"
   ],
   "metadata": {
    "collapsed": false
   }
  },
  {
   "cell_type": "markdown",
   "source": [
    "## 두 개를 합치는 작업은 VectorAssembler로 가능하다."
   ],
   "metadata": {
    "collapsed": false
   }
  },
  {
   "cell_type": "code",
   "execution_count": 11,
   "outputs": [],
   "source": [
    "# onehot, scaled\n",
    "assembler_inputs = [c + '_onehot' for c in cat_feats] + [c + '_scaled' for c in num_feats]\n",
    "assembler = VectorAssembler(inputCols=assembler_inputs, outputCol='feature_vector')\n",
    "stages += [assembler]"
   ],
   "metadata": {
    "collapsed": false
   }
  },
  {
   "cell_type": "markdown",
   "source": [],
   "metadata": {
    "collapsed": false
   }
  },
  {
   "cell_type": "code",
   "execution_count": 12,
   "outputs": [],
   "source": [
    "# HyperParameter Tuning"
   ],
   "metadata": {
    "collapsed": false
   }
  },
  {
   "cell_type": "code",
   "execution_count": 13,
   "outputs": [],
   "source": [
    "from pyspark.ml import Pipeline\n",
    "from pyspark.ml.regression import LinearRegression\n",
    "from pyspark.ml.tuning import CrossValidator, ParamGridBuilder\n",
    "from pyspark.ml.evaluation import RegressionEvaluator\n",
    "\n",
    "lr = LinearRegression(\n",
    "    maxIter=50,\n",
    "    solver='normal',\n",
    "    labelCol='total_amount',\n",
    "    featuresCol='feature_vector',\n",
    "\n",
    ")\n",
    "\n",
    "# cross validation pipeline으로 찾으면서 파라미터를 추가한다.\n",
    "cv_stages = stages + [lr]"
   ],
   "metadata": {
    "collapsed": false
   }
  },
  {
   "cell_type": "markdown",
   "source": [],
   "metadata": {
    "collapsed": false
   }
  },
  {
   "cell_type": "code",
   "execution_count": 14,
   "outputs": [],
   "source": [
    "cv_pipeline = Pipeline(stages=cv_stages)"
   ],
   "metadata": {
    "collapsed": false
   }
  },
  {
   "cell_type": "code",
   "execution_count": 15,
   "outputs": [],
   "source": [
    "param_grid = ParamGridBuilder() \\\n",
    "    .addGrid(lr.elasticNetParam, [0.1, .2, .3, .4, .5]) \\\n",
    "    .addGrid(lr.regParam, [.01, .02, .03, .04, .05]) \\\n",
    "    .build()"
   ],
   "metadata": {
    "collapsed": false
   }
  },
  {
   "cell_type": "code",
   "execution_count": 16,
   "outputs": [],
   "source": [
    "cross_val = CrossValidator(estimator=cv_pipeline,\n",
    "                           estimatorParamMaps=param_grid,\n",
    "                           evaluator=RegressionEvaluator(labelCol='total_amount'),\n",
    "                           numFolds=5)\n"
   ],
   "metadata": {
    "collapsed": false
   }
  },
  {
   "cell_type": "code",
   "execution_count": 17,
   "outputs": [
    {
     "name": "stderr",
     "output_type": "stream",
     "text": [
      "[Stage 20:>                                                       (0 + 10) / 12]\r"
     ]
    },
    {
     "name": "stdout",
     "output_type": "stream",
     "text": [
      "22/12/26 03:07:13 WARN InstanceBuilder$NativeBLAS: Failed to load implementation from:dev.ludovic.netlib.blas.JNIBLAS\n",
      "22/12/26 03:07:13 WARN InstanceBuilder$NativeBLAS: Failed to load implementation from:dev.ludovic.netlib.blas.ForeignLinkerBLAS\n",
      "22/12/26 03:07:13 WARN InstanceBuilder$JavaBLAS: Failed to load implementation from:dev.ludovic.netlib.blas.VectorBLAS\n"
     ]
    },
    {
     "name": "stderr",
     "output_type": "stream",
     "text": [
      "                                                                                \r"
     ]
    },
    {
     "name": "stdout",
     "output_type": "stream",
     "text": [
      "22/12/26 03:07:14 WARN BLAS: Failed to load implementation from: com.github.fommil.netlib.NativeSystemBLAS\n",
      "22/12/26 03:07:14 WARN BLAS: Failed to load implementation from: com.github.fommil.netlib.NativeRefBLAS\n"
     ]
    },
    {
     "name": "stderr",
     "output_type": "stream",
     "text": [
      "                                                                                \r"
     ]
    }
   ],
   "source": [
    "cv_model = cross_val.fit(toy_df)"
   ],
   "metadata": {
    "collapsed": false
   }
  },
  {
   "cell_type": "markdown",
   "source": [
    "## 최적의 parameter를 알아냄"
   ],
   "metadata": {
    "collapsed": false
   }
  },
  {
   "cell_type": "code",
   "execution_count": 18,
   "outputs": [],
   "source": [
    "alpha = cv_model.bestModel.stages[-1]._java_obj.getElasticNetParam()\n",
    "reg_param = cv_model.bestModel.stages[-1]._java_obj.getRegParam()"
   ],
   "metadata": {
    "collapsed": false
   }
  },
  {
   "cell_type": "markdown",
   "source": [
    "## Traning"
   ],
   "metadata": {
    "collapsed": false
   }
  },
  {
   "cell_type": "code",
   "execution_count": 19,
   "outputs": [
    {
     "name": "stderr",
     "output_type": "stream",
     "text": [
      "                                                                                \r"
     ]
    }
   ],
   "source": [
    "transform_stages = stages\n",
    "pipeline = Pipeline(stages=transform_stages)\n",
    "fitted_transformer = pipeline.fit(train_df)\n"
   ],
   "metadata": {
    "collapsed": false
   }
  },
  {
   "cell_type": "code",
   "execution_count": 20,
   "outputs": [],
   "source": [
    "v_train_df = fitted_transformer.transform(train_df)"
   ],
   "metadata": {
    "collapsed": false
   }
  },
  {
   "cell_type": "code",
   "execution_count": 21,
   "outputs": [],
   "source": [
    "lr = LinearRegression(\n",
    "    maxIter=50,\n",
    "    solver=\"normal\",\n",
    "    labelCol=\"total_amount\",\n",
    "    featuresCol=\"feature_vector\",\n",
    "    elasticNetParam=alpha,\n",
    "    regParam=reg_param,\n",
    ")"
   ],
   "metadata": {
    "collapsed": false
   }
  },
  {
   "cell_type": "code",
   "execution_count": 23,
   "outputs": [
    {
     "name": "stdout",
     "output_type": "stream",
     "text": [
      "root\n",
      " |-- passenger_count: double (nullable = true)\n",
      " |-- pickup_location_id: integer (nullable = true)\n",
      " |-- dropoff_location_id: integer (nullable = true)\n",
      " |-- trip_distance: double (nullable = true)\n",
      " |-- pickup_time: integer (nullable = true)\n",
      " |-- day_of_week: string (nullable = true)\n",
      " |-- total_amount: double (nullable = true)\n",
      " |-- pickup_location_id_idx: double (nullable = false)\n",
      " |-- pickup_location_id_onehot: vector (nullable = true)\n",
      " |-- dropoff_location_id_idx: double (nullable = false)\n",
      " |-- dropoff_location_id_onehot: vector (nullable = true)\n",
      " |-- day_of_week_idx: double (nullable = false)\n",
      " |-- day_of_week_onehot: vector (nullable = true)\n",
      " |-- passenger_count_vector: vector (nullable = true)\n",
      " |-- passenger_count_scaled: vector (nullable = true)\n",
      " |-- trip_distance_vector: vector (nullable = true)\n",
      " |-- trip_distance_scaled: vector (nullable = true)\n",
      " |-- pickup_time_vector: vector (nullable = true)\n",
      " |-- pickup_time_scaled: vector (nullable = true)\n",
      " |-- feature_vector: vector (nullable = true)\n",
      "\n"
     ]
    }
   ],
   "source": [
    "v_train_df.printSchema()"
   ],
   "metadata": {
    "collapsed": false
   }
  },
  {
   "cell_type": "code",
   "execution_count": 24,
   "outputs": [
    {
     "name": "stderr",
     "output_type": "stream",
     "text": [
      "                                                                                \r"
     ]
    }
   ],
   "source": [
    "model = lr.fit(v_train_df)"
   ],
   "metadata": {
    "collapsed": false
   }
  },
  {
   "cell_type": "code",
   "execution_count": 27,
   "outputs": [],
   "source": [
    "v_test_df = fitted_transformer.transform(test_df)"
   ],
   "metadata": {
    "collapsed": false
   }
  },
  {
   "cell_type": "code",
   "execution_count": 28,
   "outputs": [],
   "source": [
    "predictions = model.transform(v_test_df)"
   ],
   "metadata": {
    "collapsed": false
   }
  },
  {
   "cell_type": "code",
   "execution_count": 29,
   "outputs": [
    {
     "data": {
      "text/plain": "DataFrame[passenger_count: double, pickup_location_id: int, dropoff_location_id: int, trip_distance: double, pickup_time: int, day_of_week: string, total_amount: double, pickup_location_id_idx: double, pickup_location_id_onehot: vector, dropoff_location_id_idx: double, dropoff_location_id_onehot: vector, day_of_week_idx: double, day_of_week_onehot: vector, passenger_count_vector: vector, passenger_count_scaled: vector, trip_distance_vector: vector, trip_distance_scaled: vector, pickup_time_vector: vector, pickup_time_scaled: vector, feature_vector: vector, prediction: double]"
     },
     "execution_count": 29,
     "metadata": {},
     "output_type": "execute_result"
    }
   ],
   "source": [
    "predictions.cache()"
   ],
   "metadata": {
    "collapsed": false
   }
  },
  {
   "cell_type": "code",
   "execution_count": 30,
   "outputs": [
    {
     "name": "stderr",
     "output_type": "stream",
     "text": [
      "[Stage 3046:>                                                       (0 + 1) / 1]\r"
     ]
    },
    {
     "name": "stdout",
     "output_type": "stream",
     "text": [
      "+-------------+-----------+------------+------------------+\n",
      "|trip_distance|day_of_week|total_amount|        prediction|\n",
      "+-------------+-----------+------------+------------------+\n",
      "|          0.7|   Saturday|       12.35|12.382929491402097|\n",
      "|          3.1|    Tuesday|        18.0|17.722364162327906|\n",
      "|          2.1|   Saturday|       15.35|16.640029629127632|\n",
      "|          1.7|   Saturday|        13.3|14.245353623831388|\n",
      "|          4.1|     Friday|        21.3|20.838734893742604|\n",
      "|          1.4|     Friday|         8.3|12.209108612619954|\n",
      "|          7.3|    Tuesday|        29.3| 28.01987861394699|\n",
      "|          0.7|  Wednesday|         5.8|  9.95413931143023|\n",
      "|          5.0|  Wednesday|        24.3|21.253243158062972|\n",
      "|          6.7|   Saturday|        29.8| 37.40742729747107|\n",
      "|         16.8|     Friday|       82.37| 70.89368339633509|\n",
      "|         29.3|     Monday|        80.8|102.88940194075326|\n",
      "|          4.1|     Friday|        20.8|21.994316288800498|\n",
      "|          0.1|  Wednesday|        55.3|12.476542359578655|\n",
      "|          0.7|  Wednesday|        10.3|14.463223100021818|\n",
      "|          3.7|  Wednesday|        17.8|22.377436408705094|\n",
      "|          2.4|    Tuesday|        14.8|17.253353240451265|\n",
      "|          4.5|     Friday|       26.35|22.766774733785073|\n",
      "|          3.4|  Wednesday|       21.95| 19.35301898474735|\n",
      "|          4.0|   Thursday|        20.8|21.297015302264672|\n",
      "+-------------+-----------+------------+------------------+\n",
      "only showing top 20 rows\n",
      "\n"
     ]
    },
    {
     "name": "stderr",
     "output_type": "stream",
     "text": [
      "                                                                                \r"
     ]
    }
   ],
   "source": [
    "predictions.select([\"trip_distance\", \"day_of_week\", \"total_amount\", \"prediction\"]).show()"
   ],
   "metadata": {
    "collapsed": false
   }
  },
  {
   "cell_type": "code",
   "execution_count": 31,
   "outputs": [
    {
     "data": {
      "text/plain": "5.849215298909927"
     },
     "execution_count": 31,
     "metadata": {},
     "output_type": "execute_result"
    }
   ],
   "source": [
    "model.summary.rootMeanSquaredError"
   ],
   "metadata": {
    "collapsed": false
   }
  },
  {
   "cell_type": "code",
   "execution_count": 32,
   "outputs": [
    {
     "data": {
      "text/plain": "0.7969367132378183"
     },
     "execution_count": 32,
     "metadata": {},
     "output_type": "execute_result"
    }
   ],
   "source": [
    "model.summary.r2"
   ],
   "metadata": {
    "collapsed": false
   }
  },
  {
   "cell_type": "code",
   "execution_count": 33,
   "outputs": [],
   "source": [
    "model_directory = '../../../../data/model'\n",
    "model.save(model_directory)\n"
   ],
   "metadata": {
    "collapsed": false
   }
  },
  {
   "cell_type": "code",
   "execution_count": 35,
   "outputs": [],
   "source": [
    "from pyspark.ml.regression import LinearRegressionModel\n",
    "lr_model = LinearRegressionModel().load(model_directory)"
   ],
   "metadata": {
    "collapsed": false
   }
  },
  {
   "cell_type": "code",
   "execution_count": 39,
   "outputs": [],
   "source": [
    "m_predictions = lr_model.transform(v_test_df)"
   ],
   "metadata": {
    "collapsed": false
   }
  },
  {
   "cell_type": "code",
   "execution_count": 40,
   "outputs": [
    {
     "name": "stdout",
     "output_type": "stream",
     "text": [
      "+-------------+-----------+------------+------------------+\n",
      "|trip_distance|day_of_week|total_amount|        prediction|\n",
      "+-------------+-----------+------------+------------------+\n",
      "|          0.7|   Saturday|       12.35|12.382929491402097|\n",
      "|          3.1|    Tuesday|        18.0|17.722364162327906|\n",
      "|          2.1|   Saturday|       15.35|16.640029629127632|\n",
      "|          1.7|   Saturday|        13.3|14.245353623831388|\n",
      "|          4.1|     Friday|        21.3|20.838734893742604|\n",
      "|          1.4|     Friday|         8.3|12.209108612619954|\n",
      "|          7.3|    Tuesday|        29.3| 28.01987861394699|\n",
      "|          0.7|  Wednesday|         5.8|  9.95413931143023|\n",
      "|          5.0|  Wednesday|        24.3|21.253243158062972|\n",
      "|          6.7|   Saturday|        29.8| 37.40742729747107|\n",
      "|         16.8|     Friday|       82.37| 70.89368339633509|\n",
      "|         29.3|     Monday|        80.8|102.88940194075326|\n",
      "|          4.1|     Friday|        20.8|21.994316288800498|\n",
      "|          0.1|  Wednesday|        55.3|12.476542359578655|\n",
      "|          0.7|  Wednesday|        10.3|14.463223100021818|\n",
      "|          3.7|  Wednesday|        17.8|22.377436408705094|\n",
      "|          2.4|    Tuesday|        14.8|17.253353240451265|\n",
      "|          4.5|     Friday|       26.35|22.766774733785073|\n",
      "|          3.4|  Wednesday|       21.95| 19.35301898474735|\n",
      "|          4.0|   Thursday|        20.8|21.297015302264672|\n",
      "+-------------+-----------+------------+------------------+\n",
      "only showing top 20 rows\n",
      "\n"
     ]
    }
   ],
   "source": [
    "m_predictions.select([\"trip_distance\", \"day_of_week\", \"total_amount\", \"prediction\"]).show()"
   ],
   "metadata": {
    "collapsed": false
   }
  },
  {
   "cell_type": "code",
   "execution_count": 41,
   "outputs": [
    {
     "name": "stdout",
     "output_type": "stream",
     "text": [
      "+---------------+------------------+-------------------+-------------+-----------+-----------+------------+----------------------+-------------------------+-----------------------+--------------------------+---------------+------------------+----------------------+----------------------+--------------------+--------------------+------------------+--------------------+--------------------+------------------+\n",
      "|passenger_count|pickup_location_id|dropoff_location_id|trip_distance|pickup_time|day_of_week|total_amount|pickup_location_id_idx|pickup_location_id_onehot|dropoff_location_id_idx|dropoff_location_id_onehot|day_of_week_idx|day_of_week_onehot|passenger_count_vector|passenger_count_scaled|trip_distance_vector|trip_distance_scaled|pickup_time_vector|  pickup_time_scaled|      feature_vector|        prediction|\n",
      "+---------------+------------------+-------------------+-------------+-----------+-----------+------------+----------------------+-------------------------+-----------------------+--------------------------+---------------+------------------+----------------------+----------------------+--------------------+--------------------+------------------+--------------------+--------------------+------------------+\n",
      "|            0.0|                 4|                 79|          0.7|         23|   Saturday|       12.35|                  62.0|         (263,[62],[1.0])|                   17.0|          (261,[17],[1.0])|            4.0|     (7,[4],[1.0])|                 [0.0]|                 [0.0]|               [0.7]|[0.1833607094912516]|            [23.0]| [4.493327688025927]|(534,[62,280,528,...|12.382929491402097|\n",
      "|            0.0|                 4|                141|          3.1|          9|    Tuesday|        18.0|                  62.0|         (263,[62],[1.0])|                    2.0|           (261,[2],[1.0])|            3.0|     (7,[3],[1.0])|                 [0.0]|                 [0.0]|               [3.1]| [0.812025999175543]|             [9.0]|[1.7582586605318844]|(534,[62,265,527,...|17.722364162327906|\n",
      "|            0.0|                 4|                231|          2.1|         23|   Saturday|       15.35|                  62.0|         (263,[62],[1.0])|                   31.0|          (261,[31],[1.0])|            4.0|     (7,[4],[1.0])|                 [0.0]|                 [0.0]|               [2.1]|[0.5500821284737549]|            [23.0]| [4.493327688025927]|(534,[62,294,528,...|16.640029629127632|\n",
      "|            0.0|                 4|                234|          1.7|         18|   Saturday|        13.3|                  62.0|         (263,[62],[1.0])|                   12.0|          (261,[12],[1.0])|            4.0|     (7,[4],[1.0])|                 [0.0]|                 [0.0]|               [1.7]|[0.44530458019303...|            [18.0]| [3.516517321063769]|(534,[62,275,528,...|14.245353623831388|\n",
      "|            0.0|                 4|                236|          4.1|         15|     Friday|        21.3|                  62.0|         (263,[62],[1.0])|                    0.0|           (261,[0],[1.0])|            0.0|     (7,[0],[1.0])|                 [0.0]|                 [0.0]|               [4.1]|[1.0739698698773308]|            [15.0]|[2.9304311008864743]|(534,[62,263,524,...|20.838734893742604|\n",
      "|            0.0|                 7|                  7|          1.4|         14|     Friday|         8.3|                  63.0|         (263,[63],[1.0])|                   57.0|          (261,[57],[1.0])|            0.0|     (7,[0],[1.0])|                 [0.0]|                 [0.0]|               [1.4]|[0.3667214189825032]|            [14.0]| [2.735069027494043]|(534,[63,320,524,...|12.209108612619954|\n",
      "|            0.0|                 7|                 65|          7.3|          7|    Tuesday|        29.3|                  63.0|         (263,[63],[1.0])|                   77.0|          (261,[77],[1.0])|            3.0|     (7,[3],[1.0])|                 [0.0]|                 [0.0]|               [7.3]|[1.9121902561230526]|             [7.0]|[1.3675345137470214]|(534,[63,340,527,...| 28.01987861394699|\n",
      "|            0.0|                 7|                146|          0.7|         11|  Wednesday|         5.8|                  63.0|         (263,[63],[1.0])|                   86.0|          (261,[86],[1.0])|            2.0|     (7,[2],[1.0])|                 [0.0]|                 [0.0]|               [0.7]|[0.1833607094912516]|            [11.0]| [2.148982807316748]|(534,[63,349,526,...|  9.95413931143023|\n",
      "|            0.0|                 7|                186|          5.0|          8|  Wednesday|        24.3|                  63.0|         (263,[63],[1.0])|                   16.0|          (261,[16],[1.0])|            2.0|     (7,[2],[1.0])|                 [0.0]|                 [0.0]|               [5.0]|[1.3097193535089402]|             [8.0]| [1.562896587139453]|(534,[63,279,526,...|21.253243158062972|\n",
      "|            0.0|                10|                 10|          6.7|         22|   Saturday|        29.8|                  84.0|         (263,[84],[1.0])|                   99.0|          (261,[99],[1.0])|            4.0|     (7,[4],[1.0])|                 [0.0]|                 [0.0]|               [6.7]|  [1.75502393370198]|            [22.0]| [4.297965614633496]|(534,[84,362,528,...| 37.40742729747107|\n",
      "|            0.0|                10|                140|         16.8|         18|     Friday|       82.37|                  84.0|         (263,[84],[1.0])|                   10.0|          (261,[10],[1.0])|            0.0|     (7,[0],[1.0])|                 [0.0]|                 [0.0]|              [16.8]| [4.400657027790039]|            [18.0]| [3.516517321063769]|(534,[84,273,524,...| 70.89368339633509|\n",
      "|            0.0|                10|                241|         29.3|         11|     Monday|        80.8|                  84.0|         (263,[84],[1.0])|                  142.0|         (261,[142],[1.0])|            5.0|     (7,[5],[1.0])|                 [0.0]|                 [0.0]|              [29.3]|  [7.67495541156239]|            [11.0]| [2.148982807316748]|(534,[84,405,529,...|102.88940194075326|\n",
      "|            0.0|                12|                246|          4.1|         14|     Friday|        20.8|                  71.0|         (263,[71],[1.0])|                   24.0|          (261,[24],[1.0])|            0.0|     (7,[0],[1.0])|                 [0.0]|                 [0.0]|               [4.1]|[1.0739698698773308]|            [14.0]| [2.735069027494043]|(534,[71,287,524,...|21.994316288800498|\n",
      "|            0.0|                13|                 13|          0.1|          7|  Wednesday|        55.3|                  47.0|         (263,[47],[1.0])|                   44.0|          (261,[44],[1.0])|            2.0|     (7,[2],[1.0])|                 [0.0]|                 [0.0]|               [0.1]|[0.02619438707017...|             [7.0]|[1.3675345137470214]|(534,[47,307,526,...|12.476542359578655|\n",
      "|            0.0|                13|                 13|          0.7|         16|  Wednesday|        10.3|                  47.0|         (263,[47],[1.0])|                   44.0|          (261,[44],[1.0])|            2.0|     (7,[2],[1.0])|                 [0.0]|                 [0.0]|               [0.7]|[0.1833607094912516]|            [16.0]| [3.125793174278906]|(534,[47,307,526,...|14.463223100021818|\n",
      "|            0.0|                13|                 33|          3.7|         13|  Wednesday|        17.8|                  47.0|         (263,[47],[1.0])|                   61.0|          (261,[61],[1.0])|            2.0|     (7,[2],[1.0])|                 [0.0]|                 [0.0]|               [3.7]|[0.9691923215966158]|            [13.0]| [2.539706954101611]|(534,[47,324,526,...|22.377436408705094|\n",
      "|            0.0|                13|                 68|          2.4|         15|    Tuesday|        14.8|                  47.0|         (263,[47],[1.0])|                   14.0|          (261,[14],[1.0])|            3.0|     (7,[3],[1.0])|                 [0.0]|                 [0.0]|               [2.4]|[0.6286652896842913]|            [15.0]|[2.9304311008864743]|(534,[47,277,527,...|17.253353240451265|\n",
      "|            0.0|                13|                 79|          4.5|         10|     Friday|       26.35|                  47.0|         (263,[47],[1.0])|                   17.0|          (261,[17],[1.0])|            0.0|     (7,[0],[1.0])|                 [0.0]|                 [0.0]|               [4.5]|[1.1787474181580462]|            [10.0]|[1.9536207339243161]|(534,[47,280,524,...|22.766774733785073|\n",
      "|            0.0|                13|                 90|          3.4|          8|  Wednesday|       21.95|                  47.0|         (263,[47],[1.0])|                   28.0|          (261,[28],[1.0])|            2.0|     (7,[2],[1.0])|                 [0.0]|                 [0.0]|               [3.4]|[0.8906091603860793]|             [8.0]| [1.562896587139453]|(534,[47,291,526,...| 19.35301898474735|\n",
      "|            0.0|                13|                100|          4.0|          8|   Thursday|        20.8|                  47.0|         (263,[47],[1.0])|                   30.0|          (261,[30],[1.0])|            1.0|     (7,[1],[1.0])|                 [0.0]|                 [0.0]|               [4.0]|[1.0477754828071522]|             [8.0]| [1.562896587139453]|(534,[47,293,525,...|21.297015302264672|\n",
      "+---------------+------------------+-------------------+-------------+-----------+-----------+------------+----------------------+-------------------------+-----------------------+--------------------------+---------------+------------------+----------------------+----------------------+--------------------+--------------------+------------------+--------------------+--------------------+------------------+\n",
      "only showing top 20 rows\n",
      "\n"
     ]
    }
   ],
   "source": [
    "m_predictions.show()"
   ],
   "metadata": {
    "collapsed": false
   }
  },
  {
   "cell_type": "code",
   "execution_count": null,
   "outputs": [],
   "source": [],
   "metadata": {
    "collapsed": false
   }
  },
  {
   "cell_type": "code",
   "execution_count": 42,
   "outputs": [],
   "source": [
    "spark.stop()\n"
   ],
   "metadata": {
    "collapsed": false
   }
  }
 ],
 "metadata": {
  "kernelspec": {
   "display_name": "Python 3",
   "language": "python",
   "name": "python3"
  },
  "language_info": {
   "codemirror_mode": {
    "name": "ipython",
    "version": 2
   },
   "file_extension": ".py",
   "mimetype": "text/x-python",
   "name": "python",
   "nbconvert_exporter": "python",
   "pygments_lexer": "ipython2",
   "version": "2.7.6"
  }
 },
 "nbformat": 4,
 "nbformat_minor": 0
}
