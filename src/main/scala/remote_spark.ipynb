{
 "cells": [
  {
   "cell_type": "code",
   "execution_count": null,
   "metadata": {
    "collapsed": true
   },
   "outputs": [],
   "source": []
  },
  {
   "cell_type": "code",
   "execution_count": null,
   "outputs": [],
   "source": [
    "import os, posixpath, socket\n",
    "import pyspark\n",
    "from pyspark.sql import SparkSession\n",
    "\n",
    "# Spark Session\n",
    "APP_NAME = \"test-hgkim2\"\n",
    "APP_ID = \"test-python.py\"\n",
    "EXECUTOR_MEMORY = \"8g\"\n",
    "EXECUTOR_CORES = 4\n",
    "EXECUTOR_INSTANCES = 3\n",
    "DRIVER_MEMORY = \"5g\"\n",
    "DRIVER_MAX_RESULT_SIZE = \"10g\"\n",
    "SHUFFLE_PARTITIONS = 2000\n",
    "\n",
    "spark_session = SparkSession \\\n",
    "    .builder.appName(APP_NAME) \\\n",
    "    .master(\"k8s://https://172.17.***.56:6443\") \\\n",
    "    .config(\"spark.app.id\", APP_ID) \\\n",
    "    .config('spark.ui.proxyBase', '/user/manager/proxy/4040') \\\n",
    "    .config(\"spark.sql.sources.partitionOverwriteMode\", \"dynamic\") \\\n",
    "    .config(\"spark.kryoserializer.buffer.max\", \"1024m\") \\\n",
    "    .config(\"spark.kubernetes.container.image\", \"encore.encore/library/spark-3.2.0-base:1.2.0-20211209\") \\\n",
    "    .config(\"spark.executor.instances\", EXECUTOR_INSTANCES) \\\n",
    "    .config(\"spark.executor.memory\", EXECUTOR_MEMORY) \\\n",
    "    .config(\"spark.executor.cores\", EXECUTOR_CORES) \\\n",
    "    .config(\"spark.driver.memory\", DRIVER_MEMORY) \\\n",
    "    .config(\"spark.driver.maxResultSize\", DRIVER_MAX_RESULT_SIZE) \\\n",
    "    .config(\"spark.sql.shuffle.partitions\", SHUFFLE_PARTITIONS) \\\n",
    "    .config(\"spark.kubernetes.namespace\", \"spark\") \\\n",
    "    .config(\"spark.kubernetes.authenticate.driver.serviceAccountName\", \"jupyter\") \\\n",
    "    .config(\"spark.driver.port\", \"2222\") \\\n",
    "    .config(\"spark.driver.blockManaer.port\", \"7777\") \\\n",
    "    .config(\"spark.driver.host\", socket.gethostbyname(socket.gethostname())) \\\n",
    "    .config(\"spark.driver.bindAddress\", \"0.0.0.0\") \\\n",
    "    .config(\"spark.dynamicAllocation.enabled\", \"false\") \\\n",
    "    .config(\"spark.kubernetes.executor.volumes.persistentVolumeClaim.spark-local-dir-localdirpvc.options.claimName\", \"OnDemand\") \\\n",
    "    .config(\"spark.kubernetes.executor.volumes.persistentVolumeClaim.spark-local-dir-localdirpvc.options.storageClass\", \"rook-ceph-block\") \\\n",
    "    .config(\"spark.kubernetes.executor.volumes.persistentVolumeClaim.spark-local-dir-localdirpvc.options.sizeLimit\", \"10Gi\") \\\n",
    "    .config(\"spark.kubernetes.executor.volumes.persistentVolumeClaim.spark-local-dir-localdirpvc.mount.path\", \"/data\") \\\n",
    "    .config(\"spark.kubernetes.executor.volumes.persistentVolumeClaim.spark-local-dir-localdirpvc.mount.readOnly\", \"false\") \\\n",
    "    .config(\"spark.hadoop.fs.s3a.access.key\", \"access-key\") \\\n",
    "    .config(\"spark.hadoop.fs.s3a.secret.key\", \"secret-key\") \\\n",
    "    .config(\"spark.hadoop.fs.s3a.endpoint\", \"http://10.***.81.57:80\") \\\n",
    "    .config(\"spark.hadoop.com.amazonaws.services.s3.enableV4\", \"true\") \\\n",
    "    .config(\"spark.hadoop.fs.s3a.connection.ssl.enabled\", \"false\") \\\n",
    "    .config(\"spark.hadoop.fs.s3a.path.style.access\", \"true\") \\\n",
    "    .config(\"spark.hadoop.fs.s3a.impl\", \"org.apache.hadoop.fs.s3a.S3AFileSystem\") \\\n",
    "    .config(\"spark.hadoop.fs.s3a.aws.credentials.provider\", \"org.apache.hadoop.fs.s3a.SimpleAWSCredentialsProvider\") \\\n",
    "    .getOrCreate()"
   ],
   "metadata": {
    "collapsed": false
   }
  }
 ],
 "metadata": {
  "kernelspec": {
   "display_name": "Python 3",
   "language": "python",
   "name": "python3"
  },
  "language_info": {
   "codemirror_mode": {
    "name": "ipython",
    "version": 2
   },
   "file_extension": ".py",
   "mimetype": "text/x-python",
   "name": "python",
   "nbconvert_exporter": "python",
   "pygments_lexer": "ipython2",
   "version": "2.7.6"
  }
 },
 "nbformat": 4,
 "nbformat_minor": 0
}
